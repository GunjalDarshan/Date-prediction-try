{
 "cells": [
  {
   "cell_type": "markdown",
   "metadata": {
    "id": "h7NS5KRd5Ec1"
   },
   "source": [
    "### Prophrt Model"
   ]
  },
  {
   "cell_type": "code",
   "execution_count": 3,
   "metadata": {},
   "outputs": [],
   "source": [
    "import pandas as pd\n",
    "import numpy as np\n",
    "import matplotlib.pyplot as plt\n",
    "from prophet import Prophet"
   ]
  },
  {
   "cell_type": "code",
   "execution_count": 4,
   "metadata": {
    "colab": {
     "base_uri": "https://localhost:8080/",
     "height": 423
    },
    "id": "um883pZ85EhD",
    "outputId": "fcdb9acf-3372-41d3-cc1b-9524b7df1686"
   },
   "outputs": [
    {
     "data": {
      "text/html": [
       "<div>\n",
       "<style scoped>\n",
       "    .dataframe tbody tr th:only-of-type {\n",
       "        vertical-align: middle;\n",
       "    }\n",
       "\n",
       "    .dataframe tbody tr th {\n",
       "        vertical-align: top;\n",
       "    }\n",
       "\n",
       "    .dataframe thead th {\n",
       "        text-align: right;\n",
       "    }\n",
       "</style>\n",
       "<table border=\"1\" class=\"dataframe\">\n",
       "  <thead>\n",
       "    <tr style=\"text-align: right;\">\n",
       "      <th></th>\n",
       "      <th>TYPE</th>\n",
       "      <th>Date</th>\n",
       "      <th>START TIME</th>\n",
       "      <th>END TIME</th>\n",
       "      <th>USAGE</th>\n",
       "      <th>UNITS</th>\n",
       "      <th>COST</th>\n",
       "      <th>NOTES</th>\n",
       "    </tr>\n",
       "  </thead>\n",
       "  <tbody>\n",
       "    <tr>\n",
       "      <th>0</th>\n",
       "      <td>Electric usage</td>\n",
       "      <td>2016-10-22</td>\n",
       "      <td>00:00:00</td>\n",
       "      <td>00:14:00</td>\n",
       "      <td>0.01</td>\n",
       "      <td>kWh</td>\n",
       "      <td>0.00</td>\n",
       "      <td>NaN</td>\n",
       "    </tr>\n",
       "    <tr>\n",
       "      <th>1</th>\n",
       "      <td>Electric usage</td>\n",
       "      <td>2016-10-22</td>\n",
       "      <td>00:15:00</td>\n",
       "      <td>00:29:00</td>\n",
       "      <td>0.01</td>\n",
       "      <td>kWh</td>\n",
       "      <td>0.00</td>\n",
       "      <td>NaN</td>\n",
       "    </tr>\n",
       "    <tr>\n",
       "      <th>2</th>\n",
       "      <td>Electric usage</td>\n",
       "      <td>2016-10-22</td>\n",
       "      <td>00:30:00</td>\n",
       "      <td>00:44:00</td>\n",
       "      <td>0.01</td>\n",
       "      <td>kWh</td>\n",
       "      <td>0.00</td>\n",
       "      <td>NaN</td>\n",
       "    </tr>\n",
       "    <tr>\n",
       "      <th>3</th>\n",
       "      <td>Electric usage</td>\n",
       "      <td>2016-10-22</td>\n",
       "      <td>00:45:00</td>\n",
       "      <td>00:59:00</td>\n",
       "      <td>0.01</td>\n",
       "      <td>kWh</td>\n",
       "      <td>0.00</td>\n",
       "      <td>NaN</td>\n",
       "    </tr>\n",
       "    <tr>\n",
       "      <th>4</th>\n",
       "      <td>Electric usage</td>\n",
       "      <td>2016-10-22</td>\n",
       "      <td>01:00:00</td>\n",
       "      <td>01:14:00</td>\n",
       "      <td>0.01</td>\n",
       "      <td>kWh</td>\n",
       "      <td>0.00</td>\n",
       "      <td>NaN</td>\n",
       "    </tr>\n",
       "    <tr>\n",
       "      <th>...</th>\n",
       "      <td>...</td>\n",
       "      <td>...</td>\n",
       "      <td>...</td>\n",
       "      <td>...</td>\n",
       "      <td>...</td>\n",
       "      <td>...</td>\n",
       "      <td>...</td>\n",
       "      <td>...</td>\n",
       "    </tr>\n",
       "    <tr>\n",
       "      <th>70363</th>\n",
       "      <td>Electric usage</td>\n",
       "      <td>2018-10-24</td>\n",
       "      <td>22:45:00</td>\n",
       "      <td>22:59:00</td>\n",
       "      <td>0.02</td>\n",
       "      <td>kWh</td>\n",
       "      <td>0.00</td>\n",
       "      <td>NaN</td>\n",
       "    </tr>\n",
       "    <tr>\n",
       "      <th>70364</th>\n",
       "      <td>Electric usage</td>\n",
       "      <td>2018-10-24</td>\n",
       "      <td>23:00:00</td>\n",
       "      <td>23:14:00</td>\n",
       "      <td>0.03</td>\n",
       "      <td>kWh</td>\n",
       "      <td>0.01</td>\n",
       "      <td>NaN</td>\n",
       "    </tr>\n",
       "    <tr>\n",
       "      <th>70365</th>\n",
       "      <td>Electric usage</td>\n",
       "      <td>2018-10-24</td>\n",
       "      <td>23:15:00</td>\n",
       "      <td>23:29:00</td>\n",
       "      <td>0.03</td>\n",
       "      <td>kWh</td>\n",
       "      <td>0.01</td>\n",
       "      <td>NaN</td>\n",
       "    </tr>\n",
       "    <tr>\n",
       "      <th>70366</th>\n",
       "      <td>Electric usage</td>\n",
       "      <td>2018-10-24</td>\n",
       "      <td>23:30:00</td>\n",
       "      <td>23:44:00</td>\n",
       "      <td>0.03</td>\n",
       "      <td>kWh</td>\n",
       "      <td>0.01</td>\n",
       "      <td>NaN</td>\n",
       "    </tr>\n",
       "    <tr>\n",
       "      <th>70367</th>\n",
       "      <td>Electric usage</td>\n",
       "      <td>2018-10-24</td>\n",
       "      <td>23:45:00</td>\n",
       "      <td>23:59:00</td>\n",
       "      <td>0.03</td>\n",
       "      <td>kWh</td>\n",
       "      <td>0.01</td>\n",
       "      <td>NaN</td>\n",
       "    </tr>\n",
       "  </tbody>\n",
       "</table>\n",
       "<p>70368 rows × 8 columns</p>\n",
       "</div>"
      ],
      "text/plain": [
       "                 TYPE       Date START TIME  END TIME  USAGE UNITS  COST  \\\n",
       "0      Electric usage 2016-10-22   00:00:00  00:14:00   0.01   kWh  0.00   \n",
       "1      Electric usage 2016-10-22   00:15:00  00:29:00   0.01   kWh  0.00   \n",
       "2      Electric usage 2016-10-22   00:30:00  00:44:00   0.01   kWh  0.00   \n",
       "3      Electric usage 2016-10-22   00:45:00  00:59:00   0.01   kWh  0.00   \n",
       "4      Electric usage 2016-10-22   01:00:00  01:14:00   0.01   kWh  0.00   \n",
       "...               ...        ...        ...       ...    ...   ...   ...   \n",
       "70363  Electric usage 2018-10-24   22:45:00  22:59:00   0.02   kWh  0.00   \n",
       "70364  Electric usage 2018-10-24   23:00:00  23:14:00   0.03   kWh  0.01   \n",
       "70365  Electric usage 2018-10-24   23:15:00  23:29:00   0.03   kWh  0.01   \n",
       "70366  Electric usage 2018-10-24   23:30:00  23:44:00   0.03   kWh  0.01   \n",
       "70367  Electric usage 2018-10-24   23:45:00  23:59:00   0.03   kWh  0.01   \n",
       "\n",
       "       NOTES  \n",
       "0        NaN  \n",
       "1        NaN  \n",
       "2        NaN  \n",
       "3        NaN  \n",
       "4        NaN  \n",
       "...      ...  \n",
       "70363    NaN  \n",
       "70364    NaN  \n",
       "70365    NaN  \n",
       "70366    NaN  \n",
       "70367    NaN  \n",
       "\n",
       "[70368 rows x 8 columns]"
      ]
     },
     "execution_count": 4,
     "metadata": {},
     "output_type": "execute_result"
    }
   ],
   "source": [
    "df = pd.read_excel(r\"C:\\Users\\Darshan\\Downloads\\D202.xlsx\" )\n",
    "df"
   ]
  },
  {
   "cell_type": "code",
   "execution_count": 5,
   "metadata": {
    "colab": {
     "base_uri": "https://localhost:8080/"
    },
    "id": "bBcgruco5EjV",
    "outputId": "bd74f8b6-2207-4a5a-8085-4ca5f4b25b27"
   },
   "outputs": [
    {
     "data": {
      "text/plain": [
       "0       2016-10-22\n",
       "1       2016-10-22\n",
       "2       2016-10-22\n",
       "3       2016-10-22\n",
       "4       2016-10-22\n",
       "           ...    \n",
       "70363   2018-10-24\n",
       "70364   2018-10-24\n",
       "70365   2018-10-24\n",
       "70366   2018-10-24\n",
       "70367   2018-10-24\n",
       "Name: Date, Length: 70368, dtype: datetime64[ns]"
      ]
     },
     "execution_count": 5,
     "metadata": {},
     "output_type": "execute_result"
    }
   ],
   "source": [
    "df['Date']"
   ]
  },
  {
   "cell_type": "code",
   "execution_count": 6,
   "metadata": {
    "colab": {
     "base_uri": "https://localhost:8080/",
     "height": 423
    },
    "id": "rzzdbZ_i5Emk",
    "outputId": "fb9d306d-595c-4d65-8c2a-b87429c4ced5"
   },
   "outputs": [
    {
     "data": {
      "text/html": [
       "<div>\n",
       "<style scoped>\n",
       "    .dataframe tbody tr th:only-of-type {\n",
       "        vertical-align: middle;\n",
       "    }\n",
       "\n",
       "    .dataframe tbody tr th {\n",
       "        vertical-align: top;\n",
       "    }\n",
       "\n",
       "    .dataframe thead th {\n",
       "        text-align: right;\n",
       "    }\n",
       "</style>\n",
       "<table border=\"1\" class=\"dataframe\">\n",
       "  <thead>\n",
       "    <tr style=\"text-align: right;\">\n",
       "      <th></th>\n",
       "      <th>TYPE</th>\n",
       "      <th>Date</th>\n",
       "      <th>START TIME</th>\n",
       "      <th>END TIME</th>\n",
       "      <th>USAGE</th>\n",
       "      <th>UNITS</th>\n",
       "      <th>COST</th>\n",
       "      <th>NOTES</th>\n",
       "    </tr>\n",
       "  </thead>\n",
       "  <tbody>\n",
       "    <tr>\n",
       "      <th>0</th>\n",
       "      <td>Electric usage</td>\n",
       "      <td>2016-10-22</td>\n",
       "      <td>00:00:00</td>\n",
       "      <td>00:14:00</td>\n",
       "      <td>0.01</td>\n",
       "      <td>kWh</td>\n",
       "      <td>0.00</td>\n",
       "      <td>NaN</td>\n",
       "    </tr>\n",
       "    <tr>\n",
       "      <th>1</th>\n",
       "      <td>Electric usage</td>\n",
       "      <td>2016-10-22</td>\n",
       "      <td>00:15:00</td>\n",
       "      <td>00:29:00</td>\n",
       "      <td>0.01</td>\n",
       "      <td>kWh</td>\n",
       "      <td>0.00</td>\n",
       "      <td>NaN</td>\n",
       "    </tr>\n",
       "    <tr>\n",
       "      <th>2</th>\n",
       "      <td>Electric usage</td>\n",
       "      <td>2016-10-22</td>\n",
       "      <td>00:30:00</td>\n",
       "      <td>00:44:00</td>\n",
       "      <td>0.01</td>\n",
       "      <td>kWh</td>\n",
       "      <td>0.00</td>\n",
       "      <td>NaN</td>\n",
       "    </tr>\n",
       "    <tr>\n",
       "      <th>3</th>\n",
       "      <td>Electric usage</td>\n",
       "      <td>2016-10-22</td>\n",
       "      <td>00:45:00</td>\n",
       "      <td>00:59:00</td>\n",
       "      <td>0.01</td>\n",
       "      <td>kWh</td>\n",
       "      <td>0.00</td>\n",
       "      <td>NaN</td>\n",
       "    </tr>\n",
       "    <tr>\n",
       "      <th>4</th>\n",
       "      <td>Electric usage</td>\n",
       "      <td>2016-10-22</td>\n",
       "      <td>01:00:00</td>\n",
       "      <td>01:14:00</td>\n",
       "      <td>0.01</td>\n",
       "      <td>kWh</td>\n",
       "      <td>0.00</td>\n",
       "      <td>NaN</td>\n",
       "    </tr>\n",
       "    <tr>\n",
       "      <th>...</th>\n",
       "      <td>...</td>\n",
       "      <td>...</td>\n",
       "      <td>...</td>\n",
       "      <td>...</td>\n",
       "      <td>...</td>\n",
       "      <td>...</td>\n",
       "      <td>...</td>\n",
       "      <td>...</td>\n",
       "    </tr>\n",
       "    <tr>\n",
       "      <th>70363</th>\n",
       "      <td>Electric usage</td>\n",
       "      <td>2018-10-24</td>\n",
       "      <td>22:45:00</td>\n",
       "      <td>22:59:00</td>\n",
       "      <td>0.02</td>\n",
       "      <td>kWh</td>\n",
       "      <td>0.00</td>\n",
       "      <td>NaN</td>\n",
       "    </tr>\n",
       "    <tr>\n",
       "      <th>70364</th>\n",
       "      <td>Electric usage</td>\n",
       "      <td>2018-10-24</td>\n",
       "      <td>23:00:00</td>\n",
       "      <td>23:14:00</td>\n",
       "      <td>0.03</td>\n",
       "      <td>kWh</td>\n",
       "      <td>0.01</td>\n",
       "      <td>NaN</td>\n",
       "    </tr>\n",
       "    <tr>\n",
       "      <th>70365</th>\n",
       "      <td>Electric usage</td>\n",
       "      <td>2018-10-24</td>\n",
       "      <td>23:15:00</td>\n",
       "      <td>23:29:00</td>\n",
       "      <td>0.03</td>\n",
       "      <td>kWh</td>\n",
       "      <td>0.01</td>\n",
       "      <td>NaN</td>\n",
       "    </tr>\n",
       "    <tr>\n",
       "      <th>70366</th>\n",
       "      <td>Electric usage</td>\n",
       "      <td>2018-10-24</td>\n",
       "      <td>23:30:00</td>\n",
       "      <td>23:44:00</td>\n",
       "      <td>0.03</td>\n",
       "      <td>kWh</td>\n",
       "      <td>0.01</td>\n",
       "      <td>NaN</td>\n",
       "    </tr>\n",
       "    <tr>\n",
       "      <th>70367</th>\n",
       "      <td>Electric usage</td>\n",
       "      <td>2018-10-24</td>\n",
       "      <td>23:45:00</td>\n",
       "      <td>23:59:00</td>\n",
       "      <td>0.03</td>\n",
       "      <td>kWh</td>\n",
       "      <td>0.01</td>\n",
       "      <td>NaN</td>\n",
       "    </tr>\n",
       "  </tbody>\n",
       "</table>\n",
       "<p>70368 rows × 8 columns</p>\n",
       "</div>"
      ],
      "text/plain": [
       "                 TYPE       Date START TIME  END TIME  USAGE UNITS  COST  \\\n",
       "0      Electric usage 2016-10-22   00:00:00  00:14:00   0.01   kWh  0.00   \n",
       "1      Electric usage 2016-10-22   00:15:00  00:29:00   0.01   kWh  0.00   \n",
       "2      Electric usage 2016-10-22   00:30:00  00:44:00   0.01   kWh  0.00   \n",
       "3      Electric usage 2016-10-22   00:45:00  00:59:00   0.01   kWh  0.00   \n",
       "4      Electric usage 2016-10-22   01:00:00  01:14:00   0.01   kWh  0.00   \n",
       "...               ...        ...        ...       ...    ...   ...   ...   \n",
       "70363  Electric usage 2018-10-24   22:45:00  22:59:00   0.02   kWh  0.00   \n",
       "70364  Electric usage 2018-10-24   23:00:00  23:14:00   0.03   kWh  0.01   \n",
       "70365  Electric usage 2018-10-24   23:15:00  23:29:00   0.03   kWh  0.01   \n",
       "70366  Electric usage 2018-10-24   23:30:00  23:44:00   0.03   kWh  0.01   \n",
       "70367  Electric usage 2018-10-24   23:45:00  23:59:00   0.03   kWh  0.01   \n",
       "\n",
       "       NOTES  \n",
       "0        NaN  \n",
       "1        NaN  \n",
       "2        NaN  \n",
       "3        NaN  \n",
       "4        NaN  \n",
       "...      ...  \n",
       "70363    NaN  \n",
       "70364    NaN  \n",
       "70365    NaN  \n",
       "70366    NaN  \n",
       "70367    NaN  \n",
       "\n",
       "[70368 rows x 8 columns]"
      ]
     },
     "execution_count": 6,
     "metadata": {},
     "output_type": "execute_result"
    }
   ],
   "source": [
    "df[\"Date\"] = pd.to_datetime(df[\"Date\"])\n",
    "#df = df.rename(columns={\"DATE\": \"ds\", \"USAGE\": \"y\"})\n",
    "df\n"
   ]
  },
  {
   "cell_type": "code",
   "execution_count": 7,
   "metadata": {
    "colab": {
     "base_uri": "https://localhost:8080/",
     "height": 423
    },
    "id": "rra7Fue15EpE",
    "outputId": "82354535-4bd3-4e62-e5ab-d4b360c73aa3"
   },
   "outputs": [
    {
     "data": {
      "text/html": [
       "<div>\n",
       "<style scoped>\n",
       "    .dataframe tbody tr th:only-of-type {\n",
       "        vertical-align: middle;\n",
       "    }\n",
       "\n",
       "    .dataframe tbody tr th {\n",
       "        vertical-align: top;\n",
       "    }\n",
       "\n",
       "    .dataframe thead th {\n",
       "        text-align: right;\n",
       "    }\n",
       "</style>\n",
       "<table border=\"1\" class=\"dataframe\">\n",
       "  <thead>\n",
       "    <tr style=\"text-align: right;\">\n",
       "      <th></th>\n",
       "      <th>Date</th>\n",
       "      <th>USAGE</th>\n",
       "    </tr>\n",
       "  </thead>\n",
       "  <tbody>\n",
       "    <tr>\n",
       "      <th>0</th>\n",
       "      <td>2016-10-22</td>\n",
       "      <td>4.52</td>\n",
       "    </tr>\n",
       "    <tr>\n",
       "      <th>1</th>\n",
       "      <td>2016-10-23</td>\n",
       "      <td>23.32</td>\n",
       "    </tr>\n",
       "    <tr>\n",
       "      <th>2</th>\n",
       "      <td>2016-10-24</td>\n",
       "      <td>7.16</td>\n",
       "    </tr>\n",
       "    <tr>\n",
       "      <th>3</th>\n",
       "      <td>2016-10-25</td>\n",
       "      <td>8.68</td>\n",
       "    </tr>\n",
       "    <tr>\n",
       "      <th>4</th>\n",
       "      <td>2016-10-26</td>\n",
       "      <td>5.04</td>\n",
       "    </tr>\n",
       "    <tr>\n",
       "      <th>...</th>\n",
       "      <td>...</td>\n",
       "      <td>...</td>\n",
       "    </tr>\n",
       "    <tr>\n",
       "      <th>728</th>\n",
       "      <td>2018-10-20</td>\n",
       "      <td>8.00</td>\n",
       "    </tr>\n",
       "    <tr>\n",
       "      <th>729</th>\n",
       "      <td>2018-10-21</td>\n",
       "      <td>1.12</td>\n",
       "    </tr>\n",
       "    <tr>\n",
       "      <th>730</th>\n",
       "      <td>2018-10-22</td>\n",
       "      <td>0.64</td>\n",
       "    </tr>\n",
       "    <tr>\n",
       "      <th>731</th>\n",
       "      <td>2018-10-23</td>\n",
       "      <td>1.20</td>\n",
       "    </tr>\n",
       "    <tr>\n",
       "      <th>732</th>\n",
       "      <td>2018-10-24</td>\n",
       "      <td>1.92</td>\n",
       "    </tr>\n",
       "  </tbody>\n",
       "</table>\n",
       "<p>733 rows × 2 columns</p>\n",
       "</div>"
      ],
      "text/plain": [
       "          Date  USAGE\n",
       "0   2016-10-22   4.52\n",
       "1   2016-10-23  23.32\n",
       "2   2016-10-24   7.16\n",
       "3   2016-10-25   8.68\n",
       "4   2016-10-26   5.04\n",
       "..         ...    ...\n",
       "728 2018-10-20   8.00\n",
       "729 2018-10-21   1.12\n",
       "730 2018-10-22   0.64\n",
       "731 2018-10-23   1.20\n",
       "732 2018-10-24   1.92\n",
       "\n",
       "[733 rows x 2 columns]"
      ]
     },
     "execution_count": 7,
     "metadata": {},
     "output_type": "execute_result"
    }
   ],
   "source": [
    "tarin_df = df.groupby(\"Date\")[\"USAGE\"].sum().reset_index()\n",
    "tarin_df"
   ]
  },
  {
   "cell_type": "code",
   "execution_count": 8,
   "metadata": {},
   "outputs": [
    {
     "data": {
      "text/html": [
       "<div>\n",
       "<style scoped>\n",
       "    .dataframe tbody tr th:only-of-type {\n",
       "        vertical-align: middle;\n",
       "    }\n",
       "\n",
       "    .dataframe tbody tr th {\n",
       "        vertical-align: top;\n",
       "    }\n",
       "\n",
       "    .dataframe thead th {\n",
       "        text-align: right;\n",
       "    }\n",
       "</style>\n",
       "<table border=\"1\" class=\"dataframe\">\n",
       "  <thead>\n",
       "    <tr style=\"text-align: right;\">\n",
       "      <th></th>\n",
       "      <th>ds</th>\n",
       "      <th>y</th>\n",
       "    </tr>\n",
       "  </thead>\n",
       "  <tbody>\n",
       "    <tr>\n",
       "      <th>0</th>\n",
       "      <td>2016-10-22</td>\n",
       "      <td>4.52</td>\n",
       "    </tr>\n",
       "    <tr>\n",
       "      <th>1</th>\n",
       "      <td>2016-10-23</td>\n",
       "      <td>23.32</td>\n",
       "    </tr>\n",
       "    <tr>\n",
       "      <th>2</th>\n",
       "      <td>2016-10-24</td>\n",
       "      <td>7.16</td>\n",
       "    </tr>\n",
       "    <tr>\n",
       "      <th>3</th>\n",
       "      <td>2016-10-25</td>\n",
       "      <td>8.68</td>\n",
       "    </tr>\n",
       "    <tr>\n",
       "      <th>4</th>\n",
       "      <td>2016-10-26</td>\n",
       "      <td>5.04</td>\n",
       "    </tr>\n",
       "    <tr>\n",
       "      <th>...</th>\n",
       "      <td>...</td>\n",
       "      <td>...</td>\n",
       "    </tr>\n",
       "    <tr>\n",
       "      <th>728</th>\n",
       "      <td>2018-10-20</td>\n",
       "      <td>8.00</td>\n",
       "    </tr>\n",
       "    <tr>\n",
       "      <th>729</th>\n",
       "      <td>2018-10-21</td>\n",
       "      <td>1.12</td>\n",
       "    </tr>\n",
       "    <tr>\n",
       "      <th>730</th>\n",
       "      <td>2018-10-22</td>\n",
       "      <td>0.64</td>\n",
       "    </tr>\n",
       "    <tr>\n",
       "      <th>731</th>\n",
       "      <td>2018-10-23</td>\n",
       "      <td>1.20</td>\n",
       "    </tr>\n",
       "    <tr>\n",
       "      <th>732</th>\n",
       "      <td>2018-10-24</td>\n",
       "      <td>1.92</td>\n",
       "    </tr>\n",
       "  </tbody>\n",
       "</table>\n",
       "<p>733 rows × 2 columns</p>\n",
       "</div>"
      ],
      "text/plain": [
       "            ds      y\n",
       "0   2016-10-22   4.52\n",
       "1   2016-10-23  23.32\n",
       "2   2016-10-24   7.16\n",
       "3   2016-10-25   8.68\n",
       "4   2016-10-26   5.04\n",
       "..         ...    ...\n",
       "728 2018-10-20   8.00\n",
       "729 2018-10-21   1.12\n",
       "730 2018-10-22   0.64\n",
       "731 2018-10-23   1.20\n",
       "732 2018-10-24   1.92\n",
       "\n",
       "[733 rows x 2 columns]"
      ]
     },
     "execution_count": 8,
     "metadata": {},
     "output_type": "execute_result"
    }
   ],
   "source": [
    "train_df = tarin_df.rename(columns={\"Date\": \"ds\", \"USAGE\": \"y\"})\n",
    "train_df"
   ]
  },
  {
   "cell_type": "code",
   "execution_count": 89,
   "metadata": {
    "colab": {
     "base_uri": "https://localhost:8080/"
    },
    "id": "LA0-HTCH6tUD",
    "outputId": "b92b02bc-49f5-4dd1-c41d-b526f3ea304e"
   },
   "outputs": [
    {
     "name": "stderr",
     "output_type": "stream",
     "text": [
      "16:25:56 - cmdstanpy - INFO - Chain [1] start processing\n",
      "16:25:56 - cmdstanpy - INFO - Chain [1] done processing\n",
      "16:25:56 - cmdstanpy - ERROR - Chain [1] error: error during processing Operation not permitted\n",
      "Optimization terminated abnormally. Falling back to Newton.\n",
      "16:25:56 - cmdstanpy - INFO - Chain [1] start processing\n",
      "16:25:57 - cmdstanpy - INFO - Chain [1] done processing\n"
     ]
    },
    {
     "data": {
      "text/plain": [
       "<prophet.forecaster.Prophet at 0x170704b8160>"
      ]
     },
     "execution_count": 89,
     "metadata": {},
     "output_type": "execute_result"
    }
   ],
   "source": [
    "model  = Prophet(changepoint_prior_scale=0.001,seasonality_mode='additive',seasonality_prior_scale=0.01)\n",
    "\n",
    "\n",
    "model.fit(train_df)"
   ]
  },
  {
   "cell_type": "code",
   "execution_count": 90,
   "metadata": {
    "id": "jxKRU0vW6tZM"
   },
   "outputs": [],
   "source": [
    "future = model.make_future_dataframe(periods=30)"
   ]
  },
  {
   "cell_type": "code",
   "execution_count": 91,
   "metadata": {
    "id": "ybJkbNrc6tcE"
   },
   "outputs": [],
   "source": [
    "forecast = model.predict(future)"
   ]
  },
  {
   "cell_type": "code",
   "execution_count": 92,
   "metadata": {
    "colab": {
     "base_uri": "https://localhost:8080/",
     "height": 607
    },
    "id": "hN5plxqH6tlC",
    "outputId": "cb3a8f55-82f6-4c6b-e134-9d0e0c144ed2"
   },
   "outputs": [
    {
     "data": {
      "image/png": "[encoded data removed]",
      "text/plain": [
       "<Figure size 720x432 with 1 Axes>"
      ]
     },
     "metadata": {},
     "output_type": "display_data"
    }
   ],
   "source": [
    "fig = model.plot(forecast)\n",
    "plt.show()"
   ]
  },
  {
   "cell_type": "code",
   "execution_count": 93,
   "metadata": {
    "colab": {
     "base_uri": "https://localhost:8080/"
    },
    "id": "mH2OuL6f8ZWq",
    "outputId": "819c18e3-039d-4b81-f0c2-19a3e344f4bf"
   },
   "outputs": [
    {
     "name": "stdout",
     "output_type": "stream",
     "text": [
      "            ds       yhat  yhat_lower  yhat_upper\n",
      "0   2016-10-22  10.605151    3.818005   18.101131\n",
      "1   2016-10-23  11.133577    3.665411   18.251658\n",
      "2   2016-10-24   9.967413    2.669320   17.584658\n",
      "3   2016-10-25   9.546601    3.132250   16.239371\n",
      "4   2016-10-26   9.639797    2.260555   17.308226\n",
      "..         ...        ...         ...         ...\n",
      "758 2018-11-19  11.264738    4.138708   18.001886\n",
      "759 2018-11-20  10.769167    3.205541   17.942975\n",
      "760 2018-11-21  10.773010    3.663231   17.726992\n",
      "761 2018-11-22  10.990746    3.056490   18.005419\n",
      "762 2018-11-23  11.415855    3.984679   18.564868\n",
      "\n",
      "[763 rows x 4 columns]\n"
     ]
    }
   ],
   "source": [
    "# Display the forecast for the specified future dates\n",
    "forcast_df=print(forecast[['ds', 'yhat', 'yhat_lower', 'yhat_upper']])"
   ]
  },
  {
   "cell_type": "code",
   "execution_count": 94,
   "metadata": {
    "colab": {
     "base_uri": "https://localhost:8080/"
    },
    "id": "wOh-C-0N8Zez",
    "outputId": "ea2b2c79-467c-4c64-c91c-ec7ee378be70"
   },
   "outputs": [
    {
     "name": "stdout",
     "output_type": "stream",
     "text": [
      "            ds\n",
      "0   2016-10-22\n",
      "1   2016-10-23\n",
      "2   2016-10-24\n",
      "3   2016-10-25\n",
      "4   2016-10-26\n",
      "..         ...\n",
      "758 2018-11-19\n",
      "759 2018-11-20\n",
      "760 2018-11-21\n",
      "761 2018-11-22\n",
      "762 2018-11-23\n",
      "\n",
      "[763 rows x 1 columns]\n"
     ]
    }
   ],
   "source": [
    "print(forecast[['ds', ]])"
   ]
  },
  {
   "cell_type": "code",
   "execution_count": 95,
   "metadata": {
    "colab": {
     "base_uri": "https://localhost:8080/",
     "height": 617
    },
    "id": "hmHI0AwJLNam",
    "outputId": "af51f30e-97ba-4f14-9a38-237ba7939ee0"
   },
   "outputs": [
    {
     "data": {
      "text/html": [
       "<div>\n",
       "<style scoped>\n",
       "    .dataframe tbody tr th:only-of-type {\n",
       "        vertical-align: middle;\n",
       "    }\n",
       "\n",
       "    .dataframe tbody tr th {\n",
       "        vertical-align: top;\n",
       "    }\n",
       "\n",
       "    .dataframe thead th {\n",
       "        text-align: right;\n",
       "    }\n",
       "</style>\n",
       "<table border=\"1\" class=\"dataframe\">\n",
       "  <thead>\n",
       "    <tr style=\"text-align: right;\">\n",
       "      <th></th>\n",
       "      <th>ds</th>\n",
       "      <th>trend</th>\n",
       "      <th>yhat_lower</th>\n",
       "      <th>yhat_upper</th>\n",
       "      <th>trend_lower</th>\n",
       "      <th>trend_upper</th>\n",
       "      <th>additive_terms</th>\n",
       "      <th>additive_terms_lower</th>\n",
       "      <th>additive_terms_upper</th>\n",
       "      <th>weekly</th>\n",
       "      <th>weekly_lower</th>\n",
       "      <th>weekly_upper</th>\n",
       "      <th>yearly</th>\n",
       "      <th>yearly_lower</th>\n",
       "      <th>yearly_upper</th>\n",
       "      <th>multiplicative_terms</th>\n",
       "      <th>multiplicative_terms_lower</th>\n",
       "      <th>multiplicative_terms_upper</th>\n",
       "      <th>yhat</th>\n",
       "    </tr>\n",
       "  </thead>\n",
       "  <tbody>\n",
       "    <tr>\n",
       "      <th>0</th>\n",
       "      <td>2016-10-22</td>\n",
       "      <td>12.900103</td>\n",
       "      <td>3.818005</td>\n",
       "      <td>18.101131</td>\n",
       "      <td>12.900103</td>\n",
       "      <td>12.900103</td>\n",
       "      <td>-2.294951</td>\n",
       "      <td>-2.294951</td>\n",
       "      <td>-2.294951</td>\n",
       "      <td>0.754457</td>\n",
       "      <td>0.754457</td>\n",
       "      <td>0.754457</td>\n",
       "      <td>-3.049409</td>\n",
       "      <td>-3.049409</td>\n",
       "      <td>-3.049409</td>\n",
       "      <td>0.0</td>\n",
       "      <td>0.0</td>\n",
       "      <td>0.0</td>\n",
       "      <td>10.605151</td>\n",
       "    </tr>\n",
       "    <tr>\n",
       "      <th>1</th>\n",
       "      <td>2016-10-23</td>\n",
       "      <td>12.896894</td>\n",
       "      <td>3.665411</td>\n",
       "      <td>18.251658</td>\n",
       "      <td>12.896894</td>\n",
       "      <td>12.896894</td>\n",
       "      <td>-1.763317</td>\n",
       "      <td>-1.763317</td>\n",
       "      <td>-1.763317</td>\n",
       "      <td>1.202934</td>\n",
       "      <td>1.202934</td>\n",
       "      <td>1.202934</td>\n",
       "      <td>-2.966251</td>\n",
       "      <td>-2.966251</td>\n",
       "      <td>-2.966251</td>\n",
       "      <td>0.0</td>\n",
       "      <td>0.0</td>\n",
       "      <td>0.0</td>\n",
       "      <td>11.133577</td>\n",
       "    </tr>\n",
       "    <tr>\n",
       "      <th>2</th>\n",
       "      <td>2016-10-24</td>\n",
       "      <td>12.893686</td>\n",
       "      <td>2.669320</td>\n",
       "      <td>17.584658</td>\n",
       "      <td>12.893686</td>\n",
       "      <td>12.893686</td>\n",
       "      <td>-2.926273</td>\n",
       "      <td>-2.926273</td>\n",
       "      <td>-2.926273</td>\n",
       "      <td>-0.064113</td>\n",
       "      <td>-0.064113</td>\n",
       "      <td>-0.064113</td>\n",
       "      <td>-2.862159</td>\n",
       "      <td>-2.862159</td>\n",
       "      <td>-2.862159</td>\n",
       "      <td>0.0</td>\n",
       "      <td>0.0</td>\n",
       "      <td>0.0</td>\n",
       "      <td>9.967413</td>\n",
       "    </tr>\n",
       "    <tr>\n",
       "      <th>3</th>\n",
       "      <td>2016-10-25</td>\n",
       "      <td>12.890477</td>\n",
       "      <td>3.132250</td>\n",
       "      <td>16.239371</td>\n",
       "      <td>12.890477</td>\n",
       "      <td>12.890477</td>\n",
       "      <td>-3.343877</td>\n",
       "      <td>-3.343877</td>\n",
       "      <td>-3.343877</td>\n",
       "      <td>-0.606168</td>\n",
       "      <td>-0.606168</td>\n",
       "      <td>-0.606168</td>\n",
       "      <td>-2.737709</td>\n",
       "      <td>-2.737709</td>\n",
       "      <td>-2.737709</td>\n",
       "      <td>0.0</td>\n",
       "      <td>0.0</td>\n",
       "      <td>0.0</td>\n",
       "      <td>9.546601</td>\n",
       "    </tr>\n",
       "    <tr>\n",
       "      <th>4</th>\n",
       "      <td>2016-10-26</td>\n",
       "      <td>12.887269</td>\n",
       "      <td>2.260555</td>\n",
       "      <td>17.308226</td>\n",
       "      <td>12.887269</td>\n",
       "      <td>12.887269</td>\n",
       "      <td>-3.247472</td>\n",
       "      <td>-3.247472</td>\n",
       "      <td>-3.247472</td>\n",
       "      <td>-0.653497</td>\n",
       "      <td>-0.653497</td>\n",
       "      <td>-0.653497</td>\n",
       "      <td>-2.593975</td>\n",
       "      <td>-2.593975</td>\n",
       "      <td>-2.593975</td>\n",
       "      <td>0.0</td>\n",
       "      <td>0.0</td>\n",
       "      <td>0.0</td>\n",
       "      <td>9.639797</td>\n",
       "    </tr>\n",
       "    <tr>\n",
       "      <th>...</th>\n",
       "      <td>...</td>\n",
       "      <td>...</td>\n",
       "      <td>...</td>\n",
       "      <td>...</td>\n",
       "      <td>...</td>\n",
       "      <td>...</td>\n",
       "      <td>...</td>\n",
       "      <td>...</td>\n",
       "      <td>...</td>\n",
       "      <td>...</td>\n",
       "      <td>...</td>\n",
       "      <td>...</td>\n",
       "      <td>...</td>\n",
       "      <td>...</td>\n",
       "      <td>...</td>\n",
       "      <td>...</td>\n",
       "      <td>...</td>\n",
       "      <td>...</td>\n",
       "      <td>...</td>\n",
       "    </tr>\n",
       "    <tr>\n",
       "      <th>758</th>\n",
       "      <td>2018-11-19</td>\n",
       "      <td>10.468066</td>\n",
       "      <td>4.138708</td>\n",
       "      <td>18.001886</td>\n",
       "      <td>10.468066</td>\n",
       "      <td>10.468066</td>\n",
       "      <td>0.796672</td>\n",
       "      <td>0.796672</td>\n",
       "      <td>0.796672</td>\n",
       "      <td>-0.064113</td>\n",
       "      <td>-0.064113</td>\n",
       "      <td>-0.064113</td>\n",
       "      <td>0.860785</td>\n",
       "      <td>0.860785</td>\n",
       "      <td>0.860785</td>\n",
       "      <td>0.0</td>\n",
       "      <td>0.0</td>\n",
       "      <td>0.0</td>\n",
       "      <td>11.264738</td>\n",
       "    </tr>\n",
       "    <tr>\n",
       "      <th>759</th>\n",
       "      <td>2018-11-20</td>\n",
       "      <td>10.464858</td>\n",
       "      <td>3.205541</td>\n",
       "      <td>17.942975</td>\n",
       "      <td>10.464858</td>\n",
       "      <td>10.464858</td>\n",
       "      <td>0.304309</td>\n",
       "      <td>0.304309</td>\n",
       "      <td>0.304309</td>\n",
       "      <td>-0.606168</td>\n",
       "      <td>-0.606168</td>\n",
       "      <td>-0.606168</td>\n",
       "      <td>0.910477</td>\n",
       "      <td>0.910477</td>\n",
       "      <td>0.910477</td>\n",
       "      <td>0.0</td>\n",
       "      <td>0.0</td>\n",
       "      <td>0.0</td>\n",
       "      <td>10.769167</td>\n",
       "    </tr>\n",
       "    <tr>\n",
       "      <th>760</th>\n",
       "      <td>2018-11-21</td>\n",
       "      <td>10.461649</td>\n",
       "      <td>3.663231</td>\n",
       "      <td>17.726992</td>\n",
       "      <td>10.461649</td>\n",
       "      <td>10.461649</td>\n",
       "      <td>0.311361</td>\n",
       "      <td>0.311361</td>\n",
       "      <td>0.311361</td>\n",
       "      <td>-0.653497</td>\n",
       "      <td>-0.653497</td>\n",
       "      <td>-0.653497</td>\n",
       "      <td>0.964858</td>\n",
       "      <td>0.964858</td>\n",
       "      <td>0.964858</td>\n",
       "      <td>0.0</td>\n",
       "      <td>0.0</td>\n",
       "      <td>0.0</td>\n",
       "      <td>10.773010</td>\n",
       "    </tr>\n",
       "    <tr>\n",
       "      <th>761</th>\n",
       "      <td>2018-11-22</td>\n",
       "      <td>10.458441</td>\n",
       "      <td>3.056490</td>\n",
       "      <td>18.005419</td>\n",
       "      <td>10.458441</td>\n",
       "      <td>10.458441</td>\n",
       "      <td>0.532305</td>\n",
       "      <td>0.532305</td>\n",
       "      <td>0.532305</td>\n",
       "      <td>-0.494645</td>\n",
       "      <td>-0.494645</td>\n",
       "      <td>-0.494645</td>\n",
       "      <td>1.026950</td>\n",
       "      <td>1.026950</td>\n",
       "      <td>1.026950</td>\n",
       "      <td>0.0</td>\n",
       "      <td>0.0</td>\n",
       "      <td>0.0</td>\n",
       "      <td>10.990746</td>\n",
       "    </tr>\n",
       "    <tr>\n",
       "      <th>762</th>\n",
       "      <td>2018-11-23</td>\n",
       "      <td>10.455232</td>\n",
       "      <td>3.984679</td>\n",
       "      <td>18.564868</td>\n",
       "      <td>10.455232</td>\n",
       "      <td>10.455232</td>\n",
       "      <td>0.960622</td>\n",
       "      <td>0.960622</td>\n",
       "      <td>0.960622</td>\n",
       "      <td>-0.138968</td>\n",
       "      <td>-0.138968</td>\n",
       "      <td>-0.138968</td>\n",
       "      <td>1.099590</td>\n",
       "      <td>1.099590</td>\n",
       "      <td>1.099590</td>\n",
       "      <td>0.0</td>\n",
       "      <td>0.0</td>\n",
       "      <td>0.0</td>\n",
       "      <td>11.415855</td>\n",
       "    </tr>\n",
       "  </tbody>\n",
       "</table>\n",
       "<p>755 rows × 19 columns</p>\n",
       "</div>"
      ],
      "text/plain": [
       "            ds      trend  yhat_lower  yhat_upper  trend_lower  trend_upper  \\\n",
       "0   2016-10-22  12.900103    3.818005   18.101131    12.900103    12.900103   \n",
       "1   2016-10-23  12.896894    3.665411   18.251658    12.896894    12.896894   \n",
       "2   2016-10-24  12.893686    2.669320   17.584658    12.893686    12.893686   \n",
       "3   2016-10-25  12.890477    3.132250   16.239371    12.890477    12.890477   \n",
       "4   2016-10-26  12.887269    2.260555   17.308226    12.887269    12.887269   \n",
       "..         ...        ...         ...         ...          ...          ...   \n",
       "758 2018-11-19  10.468066    4.138708   18.001886    10.468066    10.468066   \n",
       "759 2018-11-20  10.464858    3.205541   17.942975    10.464858    10.464858   \n",
       "760 2018-11-21  10.461649    3.663231   17.726992    10.461649    10.461649   \n",
       "761 2018-11-22  10.458441    3.056490   18.005419    10.458441    10.458441   \n",
       "762 2018-11-23  10.455232    3.984679   18.564868    10.455232    10.455232   \n",
       "\n",
       "     additive_terms  additive_terms_lower  additive_terms_upper    weekly  \\\n",
       "0         -2.294951             -2.294951             -2.294951  0.754457   \n",
       "1         -1.763317             -1.763317             -1.763317  1.202934   \n",
       "2         -2.926273             -2.926273             -2.926273 -0.064113   \n",
       "3         -3.343877             -3.343877             -3.343877 -0.606168   \n",
       "4         -3.247472             -3.247472             -3.247472 -0.653497   \n",
       "..              ...                   ...                   ...       ...   \n",
       "758        0.796672              0.796672              0.796672 -0.064113   \n",
       "759        0.304309              0.304309              0.304309 -0.606168   \n",
       "760        0.311361              0.311361              0.311361 -0.653497   \n",
       "761        0.532305              0.532305              0.532305 -0.494645   \n",
       "762        0.960622              0.960622              0.960622 -0.138968   \n",
       "\n",
       "     weekly_lower  weekly_upper    yearly  yearly_lower  yearly_upper  \\\n",
       "0        0.754457      0.754457 -3.049409     -3.049409     -3.049409   \n",
       "1        1.202934      1.202934 -2.966251     -2.966251     -2.966251   \n",
       "2       -0.064113     -0.064113 -2.862159     -2.862159     -2.862159   \n",
       "3       -0.606168     -0.606168 -2.737709     -2.737709     -2.737709   \n",
       "4       -0.653497     -0.653497 -2.593975     -2.593975     -2.593975   \n",
       "..            ...           ...       ...           ...           ...   \n",
       "758     -0.064113     -0.064113  0.860785      0.860785      0.860785   \n",
       "759     -0.606168     -0.606168  0.910477      0.910477      0.910477   \n",
       "760     -0.653497     -0.653497  0.964858      0.964858      0.964858   \n",
       "761     -0.494645     -0.494645  1.026950      1.026950      1.026950   \n",
       "762     -0.138968     -0.138968  1.099590      1.099590      1.099590   \n",
       "\n",
       "     multiplicative_terms  multiplicative_terms_lower  \\\n",
       "0                     0.0                         0.0   \n",
       "1                     0.0                         0.0   \n",
       "2                     0.0                         0.0   \n",
       "3                     0.0                         0.0   \n",
       "4                     0.0                         0.0   \n",
       "..                    ...                         ...   \n",
       "758                   0.0                         0.0   \n",
       "759                   0.0                         0.0   \n",
       "760                   0.0                         0.0   \n",
       "761                   0.0                         0.0   \n",
       "762                   0.0                         0.0   \n",
       "\n",
       "     multiplicative_terms_upper       yhat  \n",
       "0                           0.0  10.605151  \n",
       "1                           0.0  11.133577  \n",
       "2                           0.0   9.967413  \n",
       "3                           0.0   9.546601  \n",
       "4                           0.0   9.639797  \n",
       "..                          ...        ...  \n",
       "758                         0.0  11.264738  \n",
       "759                         0.0  10.769167  \n",
       "760                         0.0  10.773010  \n",
       "761                         0.0  10.990746  \n",
       "762                         0.0  11.415855  \n",
       "\n",
       "[755 rows x 19 columns]"
      ]
     },
     "execution_count": 95,
     "metadata": {},
     "output_type": "execute_result"
    }
   ],
   "source": [
    "# Filter rows where both yhat_lower and yhat_upper are positive\n",
    "positive_interval_rows = forecast[(forecast['yhat_lower'] > 0) & (forecast['yhat_upper'] > 0)]\n",
    "\n",
    "# Display the filtered DataFrame\n",
    "positive_interval_rows"
   ]
  },
  {
   "cell_type": "code",
   "execution_count": 96,
   "metadata": {
    "colab": {
     "base_uri": "https://localhost:8080/",
     "height": 109
    },
    "id": "qc8p3PrO8Zhj",
    "outputId": "5cdcced5-c144-433e-db28-3dc3a6e667ae"
   },
   "outputs": [
    {
     "data": {
      "text/html": [
       "<div>\n",
       "<style scoped>\n",
       "    .dataframe tbody tr th:only-of-type {\n",
       "        vertical-align: middle;\n",
       "    }\n",
       "\n",
       "    .dataframe tbody tr th {\n",
       "        vertical-align: top;\n",
       "    }\n",
       "\n",
       "    .dataframe thead th {\n",
       "        text-align: right;\n",
       "    }\n",
       "</style>\n",
       "<table border=\"1\" class=\"dataframe\">\n",
       "  <thead>\n",
       "    <tr style=\"text-align: right;\">\n",
       "      <th></th>\n",
       "      <th>ds</th>\n",
       "      <th>trend</th>\n",
       "      <th>yhat_lower</th>\n",
       "      <th>yhat_upper</th>\n",
       "      <th>trend_lower</th>\n",
       "      <th>trend_upper</th>\n",
       "      <th>additive_terms</th>\n",
       "      <th>additive_terms_lower</th>\n",
       "      <th>additive_terms_upper</th>\n",
       "      <th>weekly</th>\n",
       "      <th>weekly_lower</th>\n",
       "      <th>weekly_upper</th>\n",
       "      <th>yearly</th>\n",
       "      <th>yearly_lower</th>\n",
       "      <th>yearly_upper</th>\n",
       "      <th>multiplicative_terms</th>\n",
       "      <th>multiplicative_terms_lower</th>\n",
       "      <th>multiplicative_terms_upper</th>\n",
       "      <th>yhat</th>\n",
       "    </tr>\n",
       "  </thead>\n",
       "  <tbody>\n",
       "  </tbody>\n",
       "</table>\n",
       "</div>"
      ],
      "text/plain": [
       "Empty DataFrame\n",
       "Columns: [ds, trend, yhat_lower, yhat_upper, trend_lower, trend_upper, additive_terms, additive_terms_lower, additive_terms_upper, weekly, weekly_lower, weekly_upper, yearly, yearly_lower, yearly_upper, multiplicative_terms, multiplicative_terms_lower, multiplicative_terms_upper, yhat]\n",
       "Index: []"
      ]
     },
     "execution_count": 96,
     "metadata": {},
     "output_type": "execute_result"
    }
   ],
   "source": [
    "# Filter rows where both yhat_lower and yhat_upper are positive\n",
    "positive_interval_rows = forecast[(forecast['yhat_lower'] < 0) & (forecast['yhat_upper'] < 0)]\n",
    "\n",
    "\n",
    "positive_interval_rows"
   ]
  },
  {
   "cell_type": "code",
   "execution_count": 97,
   "metadata": {},
   "outputs": [
    {
     "name": "stdout",
     "output_type": "stream",
     "text": [
      "Mean Squared Error (MSE): 142.79\n",
      "Root Mean Squared Error (RMSE): 11.95\n"
     ]
    }
   ],
   "source": [
    "from sklearn.metrics import mean_squared_error\n",
    "# Extract actual values for the forecast period (assuming they are available)\n",
    "actual_values = df[df['Date'] >= forecast['ds'].min()]['USAGE'].values\n",
    "\n",
    "# Ensure lengths are consistent\n",
    "if len(actual_values) >= len(forecast):\n",
    "    # Trim actual values to match forecast length\n",
    "    actual_values = actual_values[:len(forecast)]\n",
    "\n",
    "    # Calculate metrics\n",
    "    mse = mean_squared_error(actual_values, forecast['yhat'].values)\n",
    "    rmse = np.sqrt(mse)\n",
    "\n",
    "    print(f'Mean Squared Error (MSE): {mse:.2f}')\n",
    "    print(f'Root Mean Squared Error (RMSE): {rmse:.2f}')\n",
    "else:\n",
    "    print(\"Lengths of actual_values and forecast are inconsistent.\")"
   ]
  },
  {
   "cell_type": "code",
   "execution_count": 98,
   "metadata": {},
   "outputs": [
    {
     "name": "stderr",
     "output_type": "stream",
     "text": [
      "Seasonality has period of 365.25 days which is larger than initial window. Consider increasing initial.\n"
     ]
    },
    {
     "data": {
      "application/vnd.jupyter.widget-view+json": {
       "model_id": "7b52ea1374bc4eb7b1b5deec1e06814b",
       "version_major": 2,
       "version_minor": 0
      },
      "text/plain": [
       "  0%|          | 0/1 [00:00<?, ?it/s]"
      ]
     },
     "metadata": {},
     "output_type": "display_data"
    },
    {
     "name": "stderr",
     "output_type": "stream",
     "text": [
      "16:26:07 - cmdstanpy - INFO - Chain [1] start processing\n",
      "16:26:07 - cmdstanpy - INFO - Chain [1] done processing\n",
      "16:26:07 - cmdstanpy - ERROR - Chain [1] error: error during processing Operation not permitted\n",
      "Optimization terminated abnormally. Falling back to Newton.\n",
      "16:26:07 - cmdstanpy - INFO - Chain [1] start processing\n",
      "16:26:08 - cmdstanpy - INFO - Chain [1] done processing\n"
     ]
    }
   ],
   "source": [
    "from prophet.diagnostics import cross_validation\n",
    "from prophet.plot import plot_cross_validation_metric\n",
    "df_cv = cross_validation(model, initial='365 days', period='365 days', horizon = '30 days')"
   ]
  },
  {
   "cell_type": "code",
   "execution_count": 99,
   "metadata": {},
   "outputs": [
    {
     "data": {
      "text/html": [
       "<div>\n",
       "<style scoped>\n",
       "    .dataframe tbody tr th:only-of-type {\n",
       "        vertical-align: middle;\n",
       "    }\n",
       "\n",
       "    .dataframe tbody tr th {\n",
       "        vertical-align: top;\n",
       "    }\n",
       "\n",
       "    .dataframe thead th {\n",
       "        text-align: right;\n",
       "    }\n",
       "</style>\n",
       "<table border=\"1\" class=\"dataframe\">\n",
       "  <thead>\n",
       "    <tr style=\"text-align: right;\">\n",
       "      <th></th>\n",
       "      <th>horizon</th>\n",
       "      <th>mse</th>\n",
       "      <th>rmse</th>\n",
       "      <th>mae</th>\n",
       "      <th>mape</th>\n",
       "      <th>mdape</th>\n",
       "      <th>smape</th>\n",
       "      <th>coverage</th>\n",
       "    </tr>\n",
       "  </thead>\n",
       "  <tbody>\n",
       "    <tr>\n",
       "      <th>0</th>\n",
       "      <td>3 days</td>\n",
       "      <td>4.469335</td>\n",
       "      <td>2.114080</td>\n",
       "      <td>1.625609</td>\n",
       "      <td>0.180223</td>\n",
       "      <td>0.183316</td>\n",
       "      <td>0.195839</td>\n",
       "      <td>1.000000</td>\n",
       "    </tr>\n",
       "    <tr>\n",
       "      <th>1</th>\n",
       "      <td>4 days</td>\n",
       "      <td>1.506430</td>\n",
       "      <td>1.227367</td>\n",
       "      <td>1.061495</td>\n",
       "      <td>0.135377</td>\n",
       "      <td>0.183316</td>\n",
       "      <td>0.136892</td>\n",
       "      <td>1.000000</td>\n",
       "    </tr>\n",
       "    <tr>\n",
       "      <th>2</th>\n",
       "      <td>5 days</td>\n",
       "      <td>1.091397</td>\n",
       "      <td>1.044700</td>\n",
       "      <td>0.742871</td>\n",
       "      <td>0.081086</td>\n",
       "      <td>0.035842</td>\n",
       "      <td>0.087663</td>\n",
       "      <td>1.000000</td>\n",
       "    </tr>\n",
       "    <tr>\n",
       "      <th>3</th>\n",
       "      <td>6 days</td>\n",
       "      <td>1.606677</td>\n",
       "      <td>1.267547</td>\n",
       "      <td>1.075590</td>\n",
       "      <td>0.109797</td>\n",
       "      <td>0.121976</td>\n",
       "      <td>0.118797</td>\n",
       "      <td>1.000000</td>\n",
       "    </tr>\n",
       "    <tr>\n",
       "      <th>4</th>\n",
       "      <td>7 days</td>\n",
       "      <td>8.633700</td>\n",
       "      <td>2.938316</td>\n",
       "      <td>2.123717</td>\n",
       "      <td>0.175312</td>\n",
       "      <td>0.121976</td>\n",
       "      <td>0.208214</td>\n",
       "      <td>1.000000</td>\n",
       "    </tr>\n",
       "    <tr>\n",
       "      <th>5</th>\n",
       "      <td>8 days</td>\n",
       "      <td>8.631569</td>\n",
       "      <td>2.937953</td>\n",
       "      <td>2.117203</td>\n",
       "      <td>0.175541</td>\n",
       "      <td>0.121976</td>\n",
       "      <td>0.208438</td>\n",
       "      <td>1.000000</td>\n",
       "    </tr>\n",
       "    <tr>\n",
       "      <th>6</th>\n",
       "      <td>9 days</td>\n",
       "      <td>8.099467</td>\n",
       "      <td>2.845956</td>\n",
       "      <td>1.745753</td>\n",
       "      <td>0.142166</td>\n",
       "      <td>0.021851</td>\n",
       "      <td>0.172344</td>\n",
       "      <td>1.000000</td>\n",
       "    </tr>\n",
       "    <tr>\n",
       "      <th>7</th>\n",
       "      <td>10 days</td>\n",
       "      <td>0.333162</td>\n",
       "      <td>0.577202</td>\n",
       "      <td>0.429278</td>\n",
       "      <td>0.052292</td>\n",
       "      <td>0.021851</td>\n",
       "      <td>0.054432</td>\n",
       "      <td>1.000000</td>\n",
       "    </tr>\n",
       "    <tr>\n",
       "      <th>8</th>\n",
       "      <td>11 days</td>\n",
       "      <td>0.489591</td>\n",
       "      <td>0.699708</td>\n",
       "      <td>0.612041</td>\n",
       "      <td>0.072336</td>\n",
       "      <td>0.081262</td>\n",
       "      <td>0.075697</td>\n",
       "      <td>1.000000</td>\n",
       "    </tr>\n",
       "    <tr>\n",
       "      <th>9</th>\n",
       "      <td>12 days</td>\n",
       "      <td>0.481338</td>\n",
       "      <td>0.693785</td>\n",
       "      <td>0.566788</td>\n",
       "      <td>0.065928</td>\n",
       "      <td>0.081262</td>\n",
       "      <td>0.069369</td>\n",
       "      <td>1.000000</td>\n",
       "    </tr>\n",
       "    <tr>\n",
       "      <th>10</th>\n",
       "      <td>13 days</td>\n",
       "      <td>0.528114</td>\n",
       "      <td>0.726714</td>\n",
       "      <td>0.589952</td>\n",
       "      <td>0.069807</td>\n",
       "      <td>0.081262</td>\n",
       "      <td>0.068484</td>\n",
       "      <td>1.000000</td>\n",
       "    </tr>\n",
       "    <tr>\n",
       "      <th>11</th>\n",
       "      <td>14 days</td>\n",
       "      <td>0.894092</td>\n",
       "      <td>0.945564</td>\n",
       "      <td>0.776351</td>\n",
       "      <td>0.087638</td>\n",
       "      <td>0.125533</td>\n",
       "      <td>0.088413</td>\n",
       "      <td>1.000000</td>\n",
       "    </tr>\n",
       "    <tr>\n",
       "      <th>12</th>\n",
       "      <td>15 days</td>\n",
       "      <td>3.207732</td>\n",
       "      <td>1.791014</td>\n",
       "      <td>1.646802</td>\n",
       "      <td>0.263823</td>\n",
       "      <td>0.134754</td>\n",
       "      <td>0.227440</td>\n",
       "      <td>1.000000</td>\n",
       "    </tr>\n",
       "    <tr>\n",
       "      <th>13</th>\n",
       "      <td>16 days</td>\n",
       "      <td>2.846963</td>\n",
       "      <td>1.687294</td>\n",
       "      <td>1.329461</td>\n",
       "      <td>0.226097</td>\n",
       "      <td>0.134754</td>\n",
       "      <td>0.192160</td>\n",
       "      <td>1.000000</td>\n",
       "    </tr>\n",
       "    <tr>\n",
       "      <th>14</th>\n",
       "      <td>17 days</td>\n",
       "      <td>2.328971</td>\n",
       "      <td>1.526097</td>\n",
       "      <td>0.973065</td>\n",
       "      <td>0.189306</td>\n",
       "      <td>0.024380</td>\n",
       "      <td>0.152224</td>\n",
       "      <td>1.000000</td>\n",
       "    </tr>\n",
       "    <tr>\n",
       "      <th>15</th>\n",
       "      <td>18 days</td>\n",
       "      <td>0.039523</td>\n",
       "      <td>0.198803</td>\n",
       "      <td>0.184979</td>\n",
       "      <td>0.023131</td>\n",
       "      <td>0.024380</td>\n",
       "      <td>0.023387</td>\n",
       "      <td>1.000000</td>\n",
       "    </tr>\n",
       "    <tr>\n",
       "      <th>16</th>\n",
       "      <td>19 days</td>\n",
       "      <td>0.037834</td>\n",
       "      <td>0.194510</td>\n",
       "      <td>0.173824</td>\n",
       "      <td>0.021236</td>\n",
       "      <td>0.024380</td>\n",
       "      <td>0.021509</td>\n",
       "      <td>1.000000</td>\n",
       "    </tr>\n",
       "    <tr>\n",
       "      <th>17</th>\n",
       "      <td>20 days</td>\n",
       "      <td>0.346484</td>\n",
       "      <td>0.588629</td>\n",
       "      <td>0.436871</td>\n",
       "      <td>0.052048</td>\n",
       "      <td>0.032658</td>\n",
       "      <td>0.050072</td>\n",
       "      <td>1.000000</td>\n",
       "    </tr>\n",
       "    <tr>\n",
       "      <th>18</th>\n",
       "      <td>21 days</td>\n",
       "      <td>1.028862</td>\n",
       "      <td>1.014328</td>\n",
       "      <td>0.832105</td>\n",
       "      <td>0.114259</td>\n",
       "      <td>0.116816</td>\n",
       "      <td>0.104880</td>\n",
       "      <td>1.000000</td>\n",
       "    </tr>\n",
       "    <tr>\n",
       "      <th>19</th>\n",
       "      <td>22 days</td>\n",
       "      <td>1.034185</td>\n",
       "      <td>1.016949</td>\n",
       "      <td>0.858936</td>\n",
       "      <td>0.118057</td>\n",
       "      <td>0.116816</td>\n",
       "      <td>0.108741</td>\n",
       "      <td>1.000000</td>\n",
       "    </tr>\n",
       "    <tr>\n",
       "      <th>20</th>\n",
       "      <td>23 days</td>\n",
       "      <td>1.649753</td>\n",
       "      <td>1.284427</td>\n",
       "      <td>1.090577</td>\n",
       "      <td>0.174140</td>\n",
       "      <td>0.219294</td>\n",
       "      <td>0.155118</td>\n",
       "      <td>1.000000</td>\n",
       "    </tr>\n",
       "    <tr>\n",
       "      <th>21</th>\n",
       "      <td>24 days</td>\n",
       "      <td>3.785258</td>\n",
       "      <td>1.945574</td>\n",
       "      <td>1.578562</td>\n",
       "      <td>0.305528</td>\n",
       "      <td>0.285064</td>\n",
       "      <td>0.245730</td>\n",
       "      <td>1.000000</td>\n",
       "    </tr>\n",
       "    <tr>\n",
       "      <th>22</th>\n",
       "      <td>25 days</td>\n",
       "      <td>3.801566</td>\n",
       "      <td>1.949760</td>\n",
       "      <td>1.619238</td>\n",
       "      <td>0.310739</td>\n",
       "      <td>0.285064</td>\n",
       "      <td>0.250700</td>\n",
       "      <td>1.000000</td>\n",
       "    </tr>\n",
       "    <tr>\n",
       "      <th>23</th>\n",
       "      <td>26 days</td>\n",
       "      <td>3.160932</td>\n",
       "      <td>1.777901</td>\n",
       "      <td>1.374565</td>\n",
       "      <td>0.254975</td>\n",
       "      <td>0.117769</td>\n",
       "      <td>0.204606</td>\n",
       "      <td>1.000000</td>\n",
       "    </tr>\n",
       "    <tr>\n",
       "      <th>24</th>\n",
       "      <td>27 days</td>\n",
       "      <td>23.544234</td>\n",
       "      <td>4.852240</td>\n",
       "      <td>3.183629</td>\n",
       "      <td>2.534791</td>\n",
       "      <td>0.117769</td>\n",
       "      <td>0.573736</td>\n",
       "      <td>0.666667</td>\n",
       "    </tr>\n",
       "    <tr>\n",
       "      <th>25</th>\n",
       "      <td>28 days</td>\n",
       "      <td>42.753677</td>\n",
       "      <td>6.538630</td>\n",
       "      <td>5.628415</td>\n",
       "      <td>6.479722</td>\n",
       "      <td>7.452907</td>\n",
       "      <td>1.133215</td>\n",
       "      <td>0.333333</td>\n",
       "    </tr>\n",
       "    <tr>\n",
       "      <th>26</th>\n",
       "      <td>29 days</td>\n",
       "      <td>56.907215</td>\n",
       "      <td>7.543687</td>\n",
       "      <td>7.509010</td>\n",
       "      <td>8.269338</td>\n",
       "      <td>7.452907</td>\n",
       "      <td>1.584713</td>\n",
       "      <td>0.333333</td>\n",
       "    </tr>\n",
       "    <tr>\n",
       "      <th>27</th>\n",
       "      <td>30 days</td>\n",
       "      <td>45.331468</td>\n",
       "      <td>6.732865</td>\n",
       "      <td>6.697193</td>\n",
       "      <td>6.811391</td>\n",
       "      <td>5.486617</td>\n",
       "      <td>1.463248</td>\n",
       "      <td>0.666667</td>\n",
       "    </tr>\n",
       "  </tbody>\n",
       "</table>\n",
       "</div>"
      ],
      "text/plain": [
       "   horizon        mse      rmse       mae      mape     mdape     smape  \\\n",
       "0   3 days   4.469335  2.114080  1.625609  0.180223  0.183316  0.195839   \n",
       "1   4 days   1.506430  1.227367  1.061495  0.135377  0.183316  0.136892   \n",
       "2   5 days   1.091397  1.044700  0.742871  0.081086  0.035842  0.087663   \n",
       "3   6 days   1.606677  1.267547  1.075590  0.109797  0.121976  0.118797   \n",
       "4   7 days   8.633700  2.938316  2.123717  0.175312  0.121976  0.208214   \n",
       "5   8 days   8.631569  2.937953  2.117203  0.175541  0.121976  0.208438   \n",
       "6   9 days   8.099467  2.845956  1.745753  0.142166  0.021851  0.172344   \n",
       "7  10 days   0.333162  0.577202  0.429278  0.052292  0.021851  0.054432   \n",
       "8  11 days   0.489591  0.699708  0.612041  0.072336  0.081262  0.075697   \n",
       "9  12 days   0.481338  0.693785  0.566788  0.065928  0.081262  0.069369   \n",
       "10 13 days   0.528114  0.726714  0.589952  0.069807  0.081262  0.068484   \n",
       "11 14 days   0.894092  0.945564  0.776351  0.087638  0.125533  0.088413   \n",
       "12 15 days   3.207732  1.791014  1.646802  0.263823  0.134754  0.227440   \n",
       "13 16 days   2.846963  1.687294  1.329461  0.226097  0.134754  0.192160   \n",
       "14 17 days   2.328971  1.526097  0.973065  0.189306  0.024380  0.152224   \n",
       "15 18 days   0.039523  0.198803  0.184979  0.023131  0.024380  0.023387   \n",
       "16 19 days   0.037834  0.194510  0.173824  0.021236  0.024380  0.021509   \n",
       "17 20 days   0.346484  0.588629  0.436871  0.052048  0.032658  0.050072   \n",
       "18 21 days   1.028862  1.014328  0.832105  0.114259  0.116816  0.104880   \n",
       "19 22 days   1.034185  1.016949  0.858936  0.118057  0.116816  0.108741   \n",
       "20 23 days   1.649753  1.284427  1.090577  0.174140  0.219294  0.155118   \n",
       "21 24 days   3.785258  1.945574  1.578562  0.305528  0.285064  0.245730   \n",
       "22 25 days   3.801566  1.949760  1.619238  0.310739  0.285064  0.250700   \n",
       "23 26 days   3.160932  1.777901  1.374565  0.254975  0.117769  0.204606   \n",
       "24 27 days  23.544234  4.852240  3.183629  2.534791  0.117769  0.573736   \n",
       "25 28 days  42.753677  6.538630  5.628415  6.479722  7.452907  1.133215   \n",
       "26 29 days  56.907215  7.543687  7.509010  8.269338  7.452907  1.584713   \n",
       "27 30 days  45.331468  6.732865  6.697193  6.811391  5.486617  1.463248   \n",
       "\n",
       "    coverage  \n",
       "0   1.000000  \n",
       "1   1.000000  \n",
       "2   1.000000  \n",
       "3   1.000000  \n",
       "4   1.000000  \n",
       "5   1.000000  \n",
       "6   1.000000  \n",
       "7   1.000000  \n",
       "8   1.000000  \n",
       "9   1.000000  \n",
       "10  1.000000  \n",
       "11  1.000000  \n",
       "12  1.000000  \n",
       "13  1.000000  \n",
       "14  1.000000  \n",
       "15  1.000000  \n",
       "16  1.000000  \n",
       "17  1.000000  \n",
       "18  1.000000  \n",
       "19  1.000000  \n",
       "20  1.000000  \n",
       "21  1.000000  \n",
       "22  1.000000  \n",
       "23  1.000000  \n",
       "24  0.666667  \n",
       "25  0.333333  \n",
       "26  0.333333  \n",
       "27  0.666667  "
      ]
     },
     "execution_count": 99,
     "metadata": {},
     "output_type": "execute_result"
    }
   ],
   "source": [
    "from prophet.diagnostics import performance_metrics\n",
    "df_p = performance_metrics(df_cv)\n",
    "df_p"
   ]
  },
  {
   "cell_type": "code",
   "execution_count": 100,
   "metadata": {},
   "outputs": [
    {
     "name": "stdout",
     "output_type": "stream",
     "text": [
      "Mean Absolute Percentage Error (MAPE): 105.51%\n"
     ]
    }
   ],
   "source": [
    "# Calculate MAPE manually\n",
    "df_cv['mape'] = np.abs((df_cv['y'] - df_cv['yhat']) / df_cv['y']) * 100\n",
    "mape_mean = df_cv['mape'].mean()\n",
    "\n",
    "print(f'Mean Absolute Percentage Error (MAPE): {mape_mean:.2f}%')"
   ]
  },
  {
   "cell_type": "code",
   "execution_count": 87,
   "metadata": {},
   "outputs": [
    {
     "name": "stderr",
     "output_type": "stream",
     "text": [
      "16:18:36 - cmdstanpy - INFO - Chain [1] start processing\n",
      "16:18:36 - cmdstanpy - INFO - Chain [1] done processing\n",
      "16:18:36 - cmdstanpy - ERROR - Chain [1] error: error during processing Operation not permitted\n",
      "Optimization terminated abnormally. Falling back to Newton.\n",
      "16:18:36 - cmdstanpy - INFO - Chain [1] start processing\n",
      "16:18:37 - cmdstanpy - INFO - Chain [1] done processing\n",
      "Seasonality has period of 365.25 days which is larger than initial window. Consider increasing initial.\n",
      "16:18:48 - cmdstanpy - INFO - Chain [1] start processing\n",
      "16:18:48 - cmdstanpy - INFO - Chain [1] done processing\n",
      "16:18:48 - cmdstanpy - ERROR - Chain [1] error: error during processing Operation not permitted\n",
      "Optimization terminated abnormally. Falling back to Newton.\n",
      "16:18:49 - cmdstanpy - INFO - Chain [1] start processing\n",
      "16:18:50 - cmdstanpy - INFO - Chain [1] done processing\n",
      "Seasonality has period of 365.25 days which is larger than initial window. Consider increasing initial.\n",
      "16:18:59 - cmdstanpy - INFO - Chain [1] start processing\n",
      "16:18:59 - cmdstanpy - INFO - Chain [1] done processing\n",
      "16:18:59 - cmdstanpy - ERROR - Chain [1] error: error during processing Operation not permitted\n",
      "Optimization terminated abnormally. Falling back to Newton.\n",
      "16:18:59 - cmdstanpy - INFO - Chain [1] start processing\n",
      "16:19:00 - cmdstanpy - INFO - Chain [1] done processing\n",
      "Seasonality has period of 365.25 days which is larger than initial window. Consider increasing initial.\n",
      "16:19:10 - cmdstanpy - INFO - Chain [1] start processing\n",
      "16:19:10 - cmdstanpy - INFO - Chain [1] done processing\n",
      "16:19:10 - cmdstanpy - ERROR - Chain [1] error: error during processing Operation not permitted\n",
      "Optimization terminated abnormally. Falling back to Newton.\n",
      "16:19:10 - cmdstanpy - INFO - Chain [1] start processing\n",
      "16:19:11 - cmdstanpy - INFO - Chain [1] done processing\n",
      "Seasonality has period of 365.25 days which is larger than initial window. Consider increasing initial.\n",
      "16:19:21 - cmdstanpy - INFO - Chain [1] start processing\n",
      "16:19:21 - cmdstanpy - INFO - Chain [1] done processing\n",
      "Seasonality has period of 365.25 days which is larger than initial window. Consider increasing initial.\n",
      "16:19:28 - cmdstanpy - INFO - Chain [1] start processing\n",
      "16:19:28 - cmdstanpy - INFO - Chain [1] done processing\n",
      "Seasonality has period of 365.25 days which is larger than initial window. Consider increasing initial.\n",
      "16:19:35 - cmdstanpy - INFO - Chain [1] start processing\n",
      "16:19:35 - cmdstanpy - INFO - Chain [1] done processing\n",
      "Seasonality has period of 365.25 days which is larger than initial window. Consider increasing initial.\n",
      "16:19:41 - cmdstanpy - INFO - Chain [1] start processing\n",
      "16:19:41 - cmdstanpy - INFO - Chain [1] done processing\n",
      "Seasonality has period of 365.25 days which is larger than initial window. Consider increasing initial.\n",
      "16:19:48 - cmdstanpy - INFO - Chain [1] start processing\n",
      "16:19:48 - cmdstanpy - INFO - Chain [1] done processing\n",
      "Seasonality has period of 365.25 days which is larger than initial window. Consider increasing initial.\n",
      "16:19:55 - cmdstanpy - INFO - Chain [1] start processing\n",
      "16:19:55 - cmdstanpy - INFO - Chain [1] done processing\n",
      "Seasonality has period of 365.25 days which is larger than initial window. Consider increasing initial.\n",
      "16:20:01 - cmdstanpy - INFO - Chain [1] start processing\n",
      "16:20:01 - cmdstanpy - INFO - Chain [1] done processing\n",
      "Seasonality has period of 365.25 days which is larger than initial window. Consider increasing initial.\n",
      "16:20:08 - cmdstanpy - INFO - Chain [1] start processing\n",
      "16:20:08 - cmdstanpy - INFO - Chain [1] done processing\n",
      "Seasonality has period of 365.25 days which is larger than initial window. Consider increasing initial.\n",
      "16:20:15 - cmdstanpy - INFO - Chain [1] start processing\n",
      "16:20:15 - cmdstanpy - INFO - Chain [1] done processing\n",
      "Seasonality has period of 365.25 days which is larger than initial window. Consider increasing initial.\n",
      "16:20:21 - cmdstanpy - INFO - Chain [1] start processing\n",
      "16:20:21 - cmdstanpy - INFO - Chain [1] done processing\n",
      "Seasonality has period of 365.25 days which is larger than initial window. Consider increasing initial.\n",
      "16:20:28 - cmdstanpy - INFO - Chain [1] start processing\n",
      "16:20:28 - cmdstanpy - INFO - Chain [1] done processing\n",
      "Seasonality has period of 365.25 days which is larger than initial window. Consider increasing initial.\n",
      "16:20:35 - cmdstanpy - INFO - Chain [1] start processing\n",
      "16:20:36 - cmdstanpy - INFO - Chain [1] done processing\n",
      "Seasonality has period of 365.25 days which is larger than initial window. Consider increasing initial.\n"
     ]
    }
   ],
   "source": [
    "import itertools\n",
    "import pandas as pd\n",
    "from prophet import Prophet\n",
    "from prophet.diagnostics import cross_validation, performance_metrics\n",
    "\n",
    "param_grid = {  \n",
    "    'changepoint_prior_scale': [0.001, 0.01, 0.1, 0.5],\n",
    "    'seasonality_prior_scale': [0.01, 0.1, 1.0, 10.0]\n",
    "}\n",
    "\n",
    "# Generate all combinations of parameters\n",
    "all_params = [dict(zip(param_grid.keys(), v)) for v in itertools.product(*param_grid.values())]\n",
    "rmses = [] \n",
    "\n",
    "# Use cross-validation to evaluate all parameters\n",
    "for params in all_params:\n",
    "    m = Prophet(**params).fit(train_df)  # Fit model with given params\n",
    "    df_cv = cross_validation(m, initial='365 days', period='30 days', horizon='30 days', parallel='processes')  # Use m instead of model\n",
    "    df_p = performance_metrics(df_cv, rolling_window=1)\n",
    "    rmses.append(df_p['rmse'].values[0])\n",
    "\n",
    "# Find the best parameters\n",
    "tuning_results = pd.DataFrame(all_params)\n",
    "tuning_results['rmse'] = rmses\n",
    "\n",
    "best_params = dict(tuning_results.sort_values('rmse').reset_index(drop=True).iloc[0])\n"
   ]
  },
  {
   "cell_type": "code",
   "execution_count": 88,
   "metadata": {},
   "outputs": [
    {
     "data": {
      "text/plain": [
       "{'changepoint_prior_scale': 0.001,\n",
       " 'seasonality_prior_scale': 0.01,\n",
       " 'rmse': 5.804300606572054}"
      ]
     },
     "execution_count": 88,
     "metadata": {},
     "output_type": "execute_result"
    }
   ],
   "source": [
    "best_params"
   ]
  },
  {
   "cell_type": "markdown",
   "metadata": {},
   "source": [
    "# LSTM"
   ]
  },
  {
   "cell_type": "code",
   "execution_count": 101,
   "metadata": {},
   "outputs": [],
   "source": [
    "import pandas as pd\n",
    "import numpy as np\n",
    "import matplotlib.pyplot as plt\n",
    "from sklearn.preprocessing import MinMaxScaler\n",
    "from sklearn.metrics import mean_squared_error\n",
    "from tensorflow.keras.models import Sequential\n",
    "from tensorflow.keras.layers import LSTM, Dense\n",
    "from sklearn.model_selection import train_test_split\n",
    "from tensorflow.keras.callbacks import EarlyStopping"
   ]
  },
  {
   "cell_type": "code",
   "execution_count": 102,
   "metadata": {},
   "outputs": [],
   "source": [
    "df = pd.read_excel(r\"C:\\Users\\Darshan\\Downloads\\D202.xlsx\")\n",
    "df[\"Date\"] = pd.to_datetime(df[\"Date\"])\n"
   ]
  },
  {
   "cell_type": "code",
   "execution_count": 103,
   "metadata": {},
   "outputs": [],
   "source": [
    "df[\"START TIME\"] = pd.to_timedelta(df[\"START TIME\"].astype(str))"
   ]
  },
  {
   "cell_type": "code",
   "execution_count": 104,
   "metadata": {},
   "outputs": [],
   "source": [
    "\n",
    "df[\"Datetime\"] = df[\"Date\"] + df[\"START TIME\"]"
   ]
  },
  {
   "cell_type": "code",
   "execution_count": 105,
   "metadata": {},
   "outputs": [],
   "source": [
    "# Extract relevant features\n",
    "data = df[[\"Datetime\", \"USAGE\"]].set_index(\"Datetime\")\n"
   ]
  },
  {
   "cell_type": "code",
   "execution_count": 106,
   "metadata": {},
   "outputs": [],
   "source": [
    "scaler = MinMaxScaler(feature_range=(0, 1))\n",
    "data_scaled = scaler.fit_transform(data)"
   ]
  },
  {
   "cell_type": "code",
   "execution_count": 107,
   "metadata": {},
   "outputs": [],
   "source": [
    "def create_sequences(data, seq_length):\n",
    "    sequences = []\n",
    "    for i in range(len(data) - seq_length):\n",
    "        seq = data[i:i+seq_length]\n",
    "        label = data[i+seq_length]\n",
    "        sequences.append((seq, label))\n",
    "    return np.array(sequences)\n"
   ]
  },
  {
   "cell_type": "code",
   "execution_count": 108,
   "metadata": {},
   "outputs": [],
   "source": [
    "seq_length = 10\n",
    "batch_size = 32\n",
    "epochs = 20\n"
   ]
  },
  {
   "cell_type": "code",
   "execution_count": 109,
   "metadata": {},
   "outputs": [
    {
     "name": "stderr",
     "output_type": "stream",
     "text": [
      "C:\\Users\\Darshan\\AppData\\Local\\Temp\\ipykernel_14416\\1587334098.py:7: VisibleDeprecationWarning: Creating an ndarray from ragged nested sequences (which is a list-or-tuple of lists-or-tuples-or ndarrays with different lengths or shapes) is deprecated. If you meant to do this, you must specify 'dtype=object' when creating the ndarray.\n",
      "  return np.array(sequences)\n"
     ]
    }
   ],
   "source": [
    "sequences = create_sequences(data_scaled, seq_length)"
   ]
  },
  {
   "cell_type": "code",
   "execution_count": 110,
   "metadata": {},
   "outputs": [],
   "source": [
    "X = np.array([seq for seq, _ in sequences])\n",
    "y = np.array([label for _, label in sequences])"
   ]
  },
  {
   "cell_type": "code",
   "execution_count": 111,
   "metadata": {},
   "outputs": [],
   "source": [
    "X_train, X_test, y_train, y_test = train_test_split(X, y, test_size=0.2, shuffle=False)\n"
   ]
  },
  {
   "cell_type": "code",
   "execution_count": 112,
   "metadata": {},
   "outputs": [],
   "source": [
    "model = Sequential()\n",
    "model.add(LSTM(50, activation='relu', input_shape=(seq_length, 1)))\n",
    "model.add(Dense(1))\n",
    "model.compile(optimizer='adam', loss='mse')"
   ]
  },
  {
   "cell_type": "code",
   "execution_count": 113,
   "metadata": {},
   "outputs": [
    {
     "name": "stdout",
     "output_type": "stream",
     "text": [
      "Epoch 1/20\n",
      "1759/1759 [==============================] - 9s 4ms/step - loss: 0.0033 - val_loss: 4.7738e-04\n",
      "Epoch 2/20\n",
      "1759/1759 [==============================] - 8s 4ms/step - loss: 0.0024 - val_loss: 4.6201e-04\n",
      "Epoch 3/20\n",
      "1759/1759 [==============================] - 7s 4ms/step - loss: 0.0024 - val_loss: 4.6691e-04\n",
      "Epoch 4/20\n",
      "1759/1759 [==============================] - 8s 4ms/step - loss: 0.0023 - val_loss: 4.6658e-04\n",
      "Epoch 5/20\n",
      "1759/1759 [==============================] - 8s 4ms/step - loss: 0.0022 - val_loss: 4.6241e-04\n",
      "Epoch 6/20\n",
      "1759/1759 [==============================] - 7s 4ms/step - loss: 0.0021 - val_loss: 4.5428e-04\n",
      "Epoch 7/20\n",
      "1759/1759 [==============================] - 8s 4ms/step - loss: 0.0020 - val_loss: 4.4739e-04\n",
      "Epoch 8/20\n",
      "1759/1759 [==============================] - 8s 4ms/step - loss: 0.0020 - val_loss: 4.4188e-04\n",
      "Epoch 9/20\n",
      "1759/1759 [==============================] - 8s 4ms/step - loss: 0.0020 - val_loss: 4.3699e-04\n",
      "Epoch 10/20\n",
      "1759/1759 [==============================] - 8s 4ms/step - loss: 0.0019 - val_loss: 4.2806e-04\n",
      "Epoch 11/20\n",
      "1759/1759 [==============================] - 8s 4ms/step - loss: 0.0019 - val_loss: 4.2366e-04\n",
      "Epoch 12/20\n",
      "1759/1759 [==============================] - 8s 4ms/step - loss: 0.0019 - val_loss: 4.1906e-04\n",
      "Epoch 13/20\n",
      "1759/1759 [==============================] - 8s 4ms/step - loss: 0.0019 - val_loss: 4.1773e-04\n",
      "Epoch 14/20\n",
      "1759/1759 [==============================] - 7s 4ms/step - loss: 0.0019 - val_loss: 4.1266e-04\n",
      "Epoch 15/20\n",
      "1759/1759 [==============================] - 8s 4ms/step - loss: 0.0019 - val_loss: 4.1142e-04\n",
      "Epoch 16/20\n",
      "1759/1759 [==============================] - 7s 4ms/step - loss: 0.0019 - val_loss: 4.0909e-04\n",
      "Epoch 17/20\n",
      "1759/1759 [==============================] - 8s 4ms/step - loss: 0.0019 - val_loss: 4.1103e-04\n",
      "Epoch 18/20\n",
      "1759/1759 [==============================] - 8s 4ms/step - loss: 0.0019 - val_loss: 4.0848e-04\n",
      "Epoch 19/20\n",
      "1759/1759 [==============================] - 7s 4ms/step - loss: 0.0019 - val_loss: 4.0706e-04\n",
      "Epoch 20/20\n",
      "1759/1759 [==============================] - 8s 4ms/step - loss: 0.0019 - val_loss: 4.0812e-04\n"
     ]
    }
   ],
   "source": [
    "early_stopping = EarlyStopping(monitor='val_loss', patience=5, restore_best_weights=True)\n",
    "history = model.fit(X_train, y_train, epochs=epochs, batch_size=batch_size, \n",
    "                    validation_data=(X_test, y_test), callbacks=[early_stopping], shuffle=False)"
   ]
  },
  {
   "cell_type": "code",
   "execution_count": 114,
   "metadata": {},
   "outputs": [],
   "source": [
    "# Make predictions for the next 30 days\n",
    "last_sequence = data_scaled[-seq_length:]\n",
    "next_predictions = []\n"
   ]
  },
  {
   "cell_type": "code",
   "execution_count": 115,
   "metadata": {},
   "outputs": [
    {
     "name": "stdout",
     "output_type": "stream",
     "text": [
      "1/1 [==============================] - 0s 166ms/step\n",
      "1/1 [==============================] - 0s 25ms/step\n",
      "1/1 [==============================] - 0s 20ms/step\n",
      "1/1 [==============================] - 0s 23ms/step\n",
      "1/1 [==============================] - 0s 25ms/step\n",
      "1/1 [==============================] - 0s 18ms/step\n",
      "1/1 [==============================] - 0s 18ms/step\n",
      "1/1 [==============================] - 0s 18ms/step\n",
      "1/1 [==============================] - 0s 15ms/step\n",
      "1/1 [==============================] - 0s 21ms/step\n",
      "1/1 [==============================] - 0s 16ms/step\n",
      "1/1 [==============================] - 0s 17ms/step\n",
      "1/1 [==============================] - 0s 18ms/step\n",
      "1/1 [==============================] - 0s 18ms/step\n",
      "1/1 [==============================] - 0s 17ms/step\n",
      "1/1 [==============================] - 0s 19ms/step\n",
      "1/1 [==============================] - 0s 17ms/step\n",
      "1/1 [==============================] - 0s 18ms/step\n",
      "1/1 [==============================] - 0s 19ms/step\n",
      "1/1 [==============================] - 0s 17ms/step\n",
      "1/1 [==============================] - 0s 17ms/step\n",
      "1/1 [==============================] - 0s 17ms/step\n",
      "1/1 [==============================] - 0s 17ms/step\n",
      "1/1 [==============================] - 0s 18ms/step\n",
      "1/1 [==============================] - 0s 18ms/step\n",
      "1/1 [==============================] - 0s 15ms/step\n",
      "1/1 [==============================] - 0s 17ms/step\n",
      "1/1 [==============================] - 0s 17ms/step\n",
      "1/1 [==============================] - 0s 16ms/step\n",
      "1/1 [==============================] - 0s 21ms/step\n"
     ]
    }
   ],
   "source": [
    "for _ in range(30):\n",
    "    next_pred = model.predict(np.array([last_sequence.reshape((seq_length, 1))]))\n",
    "    next_predictions.append(next_pred[0, 0])\n",
    "    last_sequence = np.append(last_sequence[1:], next_pred)\n"
   ]
  },
  {
   "cell_type": "code",
   "execution_count": 116,
   "metadata": {},
   "outputs": [],
   "source": [
    "# Inverse transform the predictions to the original scale\n",
    "y_test_original = scaler.inverse_transform(np.array(next_predictions).reshape(-1, 1))"
   ]
  },
  {
   "cell_type": "code",
   "execution_count": 117,
   "metadata": {},
   "outputs": [],
   "source": [
    "# Calculate RMSE\n",
    "rmse = sqrt(mean_squared_error(y_test_original, np.array(next_predictions).flatten()))\n"
   ]
  },
  {
   "cell_type": "code",
   "execution_count": 118,
   "metadata": {},
   "outputs": [
    {
     "data": {
      "text/plain": [
       "<matplotlib.legend.Legend at 0x1706efed970>"
      ]
     },
     "execution_count": 118,
     "metadata": {},
     "output_type": "execute_result"
    },
    {
     "data": {
      "image/png": "[encoded data removed]",
      "text/plain": [
       "<Figure size 864x432 with 1 Axes>"
      ]
     },
     "metadata": {
      "needs_background": "light"
     },
     "output_type": "display_data"
    }
   ],
   "source": [
    "# Visualize the results\n",
    "plt.figure(figsize=(12, 6))\n",
    "\n",
    "# Plot training and validation loss over epochs\n",
    "plt.subplot(2, 1, 1)\n",
    "plt.plot(history.history['loss'], label='Training Loss')\n",
    "plt.plot(history.history['val_loss'], label='Validation Loss')\n",
    "plt.title('Training and Validation Loss')\n",
    "plt.xlabel('Epochs')\n",
    "plt.ylabel('Loss')\n",
    "plt.legend()"
   ]
  },
  {
   "cell_type": "code",
   "execution_count": 119,
   "metadata": {},
   "outputs": [
    {
     "data": {
      "text/plain": [
       "<matplotlib.legend.Legend at 0x170713cb040>"
      ]
     },
     "execution_count": 119,
     "metadata": {},
     "output_type": "execute_result"
    },
    {
     "data": {
      "image/png": "[encoded data removed]",
      "text/plain": [
       "<Figure size 432x288 with 1 Axes>"
      ]
     },
     "metadata": {
      "needs_background": "light"
     },
     "output_type": "display_data"
    }
   ],
   "source": [
    "# Plot actual vs predicted usage for the test set\n",
    "plt.subplot(2, 1, 2)\n",
    "plt.plot(y_test_original, label='Actual')\n",
    "plt.plot(np.array(next_predictions).flatten(), label='Predicted')  # Fix 'flatten()' here\n",
    "plt.title('Actual vs Predicted Usage (Test Set)')\n",
    "plt.xlabel('Time Steps')\n",
    "plt.ylabel('Usage')\n",
    "plt.legend()\n"
   ]
  },
  {
   "cell_type": "code",
   "execution_count": 120,
   "metadata": {},
   "outputs": [
    {
     "name": "stdout",
     "output_type": "stream",
     "text": [
      "         Date  Predicted Usage\n",
      "0  2018-10-25         0.017658\n",
      "1  2018-10-26         0.022643\n",
      "2  2018-10-27         0.027512\n",
      "3  2018-10-28         0.032120\n",
      "4  2018-10-29         0.036780\n",
      "5  2018-10-30         0.041643\n",
      "6  2018-10-31         0.046683\n",
      "7  2018-11-01         0.051789\n",
      "8  2018-11-02         0.056584\n",
      "9  2018-11-03         0.060206\n",
      "10 2018-11-04         0.062617\n",
      "11 2018-11-05         0.063978\n",
      "12 2018-11-06         0.064536\n",
      "13 2018-11-07         0.064689\n",
      "14 2018-11-08         0.064832\n",
      "15 2018-11-09         0.064937\n",
      "16 2018-11-10         0.064900\n",
      "17 2018-11-11         0.064909\n",
      "18 2018-11-12         0.064984\n",
      "19 2018-11-13         0.065126\n",
      "20 2018-11-14         0.065304\n",
      "21 2018-11-15         0.065456\n",
      "22 2018-11-16         0.065571\n",
      "23 2018-11-17         0.065670\n",
      "24 2018-11-18         0.065758\n",
      "25 2018-11-19         0.065823\n",
      "26 2018-11-20         0.065867\n",
      "27 2018-11-21         0.065891\n",
      "28 2018-11-22         0.065903\n",
      "29 2018-11-23         0.065912\n",
      "Root Mean Squared Error (RMSE): 0.08\n"
     ]
    }
   ],
   "source": [
    "# Display the next 30 days predictions in column form\n",
    "next_predictions_df = pd.DataFrame({'Date': pd.date_range(df['Date'].max() + pd.DateOffset(1), periods=30),\n",
    "                                     'Predicted Usage': np.array(next_predictions).flatten()})\n",
    "print(next_predictions_df)\n",
    "\n",
    "# Display metrics\n",
    "print(f'Root Mean Squared Error (RMSE): {rmse:.2f}')"
   ]
  },
  {
   "cell_type": "code",
   "execution_count": null,
   "metadata": {},
   "outputs": [],
   "source": []
  },
  {
   "cell_type": "markdown",
   "metadata": {},
   "source": [
    "### ARIMA & SARIMA"
   ]
  },
  {
   "cell_type": "code",
   "execution_count": 121,
   "metadata": {},
   "outputs": [],
   "source": [
    "import pandas as pd\n",
    "import numpy as np\n",
    "import matplotlib.pyplot as plt\n",
    "import statsmodels.api as sm\n",
    "from statsmodels.tsa.statespace.sarimax import SARIMAX\n",
    "from sklearn.metrics import mean_absolute_error, mean_squared_error\n",
    "from math import sqrt"
   ]
  },
  {
   "cell_type": "code",
   "execution_count": 122,
   "metadata": {},
   "outputs": [],
   "source": [
    "df = pd.read_excel(r\"C:\\Users\\Darshan\\Downloads\\D202.xlsx\")\n",
    "df[\"Date\"] = pd.to_datetime(df[\"Date\"])\n"
   ]
  },
  {
   "cell_type": "code",
   "execution_count": 123,
   "metadata": {},
   "outputs": [],
   "source": [
    "data = df[[\"Date\", \"USAGE\"]].set_index(\"Date\")"
   ]
  },
  {
   "cell_type": "code",
   "execution_count": 124,
   "metadata": {},
   "outputs": [],
   "source": [
    "train_size = int(len(data) * 0.8)\n",
    "train, test = data[:train_size], data[train_size:]\n"
   ]
  },
  {
   "cell_type": "code",
   "execution_count": 125,
   "metadata": {},
   "outputs": [
    {
     "name": "stderr",
     "output_type": "stream",
     "text": [
      "C:\\ProgramData\\Anaconda3\\lib\\site-packages\\statsmodels\\tsa\\base\\tsa_model.py:471: ValueWarning: A date index has been provided, but it has no associated frequency information and so will be ignored when e.g. forecasting.\n",
      "  self._init_dates(dates, freq)\n",
      "C:\\ProgramData\\Anaconda3\\lib\\site-packages\\statsmodels\\tsa\\base\\tsa_model.py:471: ValueWarning: A date index has been provided, but it has no associated frequency information and so will be ignored when e.g. forecasting.\n",
      "  self._init_dates(dates, freq)\n",
      "C:\\ProgramData\\Anaconda3\\lib\\site-packages\\statsmodels\\tsa\\base\\tsa_model.py:471: ValueWarning: A date index has been provided, but it has no associated frequency information and so will be ignored when e.g. forecasting.\n",
      "  self._init_dates(dates, freq)\n"
     ]
    }
   ],
   "source": [
    "order_arima = (5, 1, 0)  # Example order, you may need to tune this\n",
    "arima_model = sm.tsa.ARIMA(train, order=order_arima)\n",
    "arima_fit = arima_model.fit()\n"
   ]
  },
  {
   "cell_type": "code",
   "execution_count": 126,
   "metadata": {},
   "outputs": [
    {
     "name": "stderr",
     "output_type": "stream",
     "text": [
      "C:\\ProgramData\\Anaconda3\\lib\\site-packages\\statsmodels\\tsa\\base\\tsa_model.py:471: ValueWarning: A date index has been provided, but it has no associated frequency information and so will be ignored when e.g. forecasting.\n",
      "  self._init_dates(dates, freq)\n",
      "C:\\ProgramData\\Anaconda3\\lib\\site-packages\\statsmodels\\tsa\\base\\tsa_model.py:471: ValueWarning: A date index has been provided, but it has no associated frequency information and so will be ignored when e.g. forecasting.\n",
      "  self._init_dates(dates, freq)\n"
     ]
    }
   ],
   "source": [
    "order_sarima = (1, 1, 1, 12)  # Example order, you may need to tune this\n",
    "sarima_model = SARIMAX(train, order=(1, 1, 1), seasonal_order=(1, 1, 1, 12))\n",
    "sarima_fit = sarima_model.fit()\n"
   ]
  },
  {
   "cell_type": "code",
   "execution_count": 127,
   "metadata": {},
   "outputs": [
    {
     "name": "stderr",
     "output_type": "stream",
     "text": [
      "C:\\ProgramData\\Anaconda3\\lib\\site-packages\\statsmodels\\tsa\\base\\tsa_model.py:834: ValueWarning: No supported index is available. Prediction results will be given with an integer index beginning at `start`.\n",
      "  return get_prediction_index(\n",
      "C:\\ProgramData\\Anaconda3\\lib\\site-packages\\statsmodels\\tsa\\base\\tsa_model.py:834: ValueWarning: No supported index is available. Prediction results will be given with an integer index beginning at `start`.\n",
      "  return get_prediction_index(\n"
     ]
    }
   ],
   "source": [
    "arima_pred = arima_fit.predict(start=len(train), end=len(train) + len(test) - 1, typ='levels')\n",
    "sarima_pred = sarima_fit.predict(start=len(train), end=len(train) + len(test) - 1, typ='levels')"
   ]
  },
  {
   "cell_type": "code",
   "execution_count": 128,
   "metadata": {},
   "outputs": [
    {
     "name": "stdout",
     "output_type": "stream",
     "text": [
      "ARIMA Metrics:\n",
      "Mean Absolute Error (MAE): 0.07\n",
      "Mean Squared Error (MSE): 0.01\n",
      "Root Mean Squared Error (RMSE): 0.11\n",
      "\n",
      "SARIMA Metrics:\n",
      "Mean Absolute Error (MAE): 0.10\n",
      "Mean Squared Error (MSE): 0.02\n",
      "Root Mean Squared Error (RMSE): 0.15\n"
     ]
    }
   ],
   "source": [
    "mae_arima = mean_absolute_error(test, arima_pred)\n",
    "mse_arima = mean_squared_error(test, arima_pred)\n",
    "rmse_arima = sqrt(mse_arima)\n",
    "\n",
    "mae_sarima = mean_absolute_error(test, sarima_pred)\n",
    "mse_sarima = mean_squared_error(test, sarima_pred)\n",
    "rmse_sarima = sqrt(mse_sarima)\n",
    "\n",
    "print(f'ARIMA Metrics:')\n",
    "print(f'Mean Absolute Error (MAE): {mae_arima:.2f}')\n",
    "print(f'Mean Squared Error (MSE): {mse_arima:.2f}')\n",
    "print(f'Root Mean Squared Error (RMSE): {rmse_arima:.2f}')\n",
    "\n",
    "print('\\nSARIMA Metrics:')\n",
    "print(f'Mean Absolute Error (MAE): {mae_sarima:.2f}')\n",
    "print(f'Mean Squared Error (MSE): {mse_sarima:.2f}')\n",
    "print(f'Root Mean Squared Error (RMSE): {rmse_sarima:.2f}')"
   ]
  },
  {
   "cell_type": "code",
   "execution_count": 129,
   "metadata": {},
   "outputs": [
    {
     "data": {
      "image/png": "[encoded data removed]",
      "text/plain": [
       "<Figure size 432x288 with 1 Axes>"
      ]
     },
     "metadata": {
      "needs_background": "light"
     },
     "output_type": "display_data"
    }
   ],
   "source": [
    "plt.plot(test, label='Actual')\n",
    "plt.plot(arima_pred, label='ARIMA Predicted')\n",
    "plt.plot(sarima_pred, label='SARIMA Predicted')\n",
    "plt.legend()\n",
    "plt.show()"
   ]
  },
  {
   "cell_type": "code",
   "execution_count": null,
   "metadata": {},
   "outputs": [],
   "source": []
  },
  {
   "cell_type": "code",
   "execution_count": null,
   "metadata": {},
   "outputs": [],
   "source": []
  },
  {
   "cell_type": "code",
   "execution_count": null,
   "metadata": {},
   "outputs": [],
   "source": []
  },
  {
   "cell_type": "markdown",
   "metadata": {},
   "source": [
    "### XGBoost model"
   ]
  },
  {
   "cell_type": "code",
   "execution_count": 130,
   "metadata": {},
   "outputs": [],
   "source": [
    "import pandas as pd\n",
    "import numpy as np\n",
    "import matplotlib.pyplot as plt\n",
    "from xgboost import XGBRegressor\n",
    "from sklearn.metrics import mean_absolute_error, mean_squared_error\n",
    "from math import sqrt\n"
   ]
  },
  {
   "cell_type": "code",
   "execution_count": 131,
   "metadata": {},
   "outputs": [],
   "source": [
    "df = pd.read_excel(r\"C:\\Users\\Darshan\\Downloads\\D202.xlsx\")\n",
    "df[\"Date\"] = pd.to_datetime(df[\"Date\"])\n"
   ]
  },
  {
   "cell_type": "code",
   "execution_count": 132,
   "metadata": {},
   "outputs": [],
   "source": [
    "data = df[[\"Date\", \"USAGE\"]].set_index(\"Date\")\n"
   ]
  },
  {
   "cell_type": "code",
   "execution_count": 133,
   "metadata": {},
   "outputs": [],
   "source": [
    "train_size = int(len(data) * 0.8)\n",
    "train, test = data[:train_size], data[train_size:]\n"
   ]
  },
  {
   "cell_type": "code",
   "execution_count": 134,
   "metadata": {},
   "outputs": [
    {
     "name": "stderr",
     "output_type": "stream",
     "text": [
      "C:\\Users\\Darshan\\AppData\\Local\\Temp\\ipykernel_14416\\190463890.py:3: SettingWithCopyWarning: \n",
      "A value is trying to be set on a copy of a slice from a DataFrame.\n",
      "Try using .loc[row_indexer,col_indexer] = value instead\n",
      "\n",
      "See the caveats in the documentation: https://pandas.pydata.org/pandas-docs/stable/user_guide/indexing.html#returning-a-view-versus-a-copy\n",
      "  train[f'lag_{i}'] = train['USAGE'].shift(i)\n",
      "C:\\Users\\Darshan\\AppData\\Local\\Temp\\ipykernel_14416\\190463890.py:4: SettingWithCopyWarning: \n",
      "A value is trying to be set on a copy of a slice from a DataFrame.\n",
      "Try using .loc[row_indexer,col_indexer] = value instead\n",
      "\n",
      "See the caveats in the documentation: https://pandas.pydata.org/pandas-docs/stable/user_guide/indexing.html#returning-a-view-versus-a-copy\n",
      "  test[f'lag_{i}'] = test['USAGE'].shift(i)\n",
      "C:\\Users\\Darshan\\AppData\\Local\\Temp\\ipykernel_14416\\190463890.py:3: SettingWithCopyWarning: \n",
      "A value is trying to be set on a copy of a slice from a DataFrame.\n",
      "Try using .loc[row_indexer,col_indexer] = value instead\n",
      "\n",
      "See the caveats in the documentation: https://pandas.pydata.org/pandas-docs/stable/user_guide/indexing.html#returning-a-view-versus-a-copy\n",
      "  train[f'lag_{i}'] = train['USAGE'].shift(i)\n",
      "C:\\Users\\Darshan\\AppData\\Local\\Temp\\ipykernel_14416\\190463890.py:4: SettingWithCopyWarning: \n",
      "A value is trying to be set on a copy of a slice from a DataFrame.\n",
      "Try using .loc[row_indexer,col_indexer] = value instead\n",
      "\n",
      "See the caveats in the documentation: https://pandas.pydata.org/pandas-docs/stable/user_guide/indexing.html#returning-a-view-versus-a-copy\n",
      "  test[f'lag_{i}'] = test['USAGE'].shift(i)\n",
      "C:\\Users\\Darshan\\AppData\\Local\\Temp\\ipykernel_14416\\190463890.py:3: SettingWithCopyWarning: \n",
      "A value is trying to be set on a copy of a slice from a DataFrame.\n",
      "Try using .loc[row_indexer,col_indexer] = value instead\n",
      "\n",
      "See the caveats in the documentation: https://pandas.pydata.org/pandas-docs/stable/user_guide/indexing.html#returning-a-view-versus-a-copy\n",
      "  train[f'lag_{i}'] = train['USAGE'].shift(i)\n",
      "C:\\Users\\Darshan\\AppData\\Local\\Temp\\ipykernel_14416\\190463890.py:4: SettingWithCopyWarning: \n",
      "A value is trying to be set on a copy of a slice from a DataFrame.\n",
      "Try using .loc[row_indexer,col_indexer] = value instead\n",
      "\n",
      "See the caveats in the documentation: https://pandas.pydata.org/pandas-docs/stable/user_guide/indexing.html#returning-a-view-versus-a-copy\n",
      "  test[f'lag_{i}'] = test['USAGE'].shift(i)\n",
      "C:\\Users\\Darshan\\AppData\\Local\\Temp\\ipykernel_14416\\190463890.py:3: SettingWithCopyWarning: \n",
      "A value is trying to be set on a copy of a slice from a DataFrame.\n",
      "Try using .loc[row_indexer,col_indexer] = value instead\n",
      "\n",
      "See the caveats in the documentation: https://pandas.pydata.org/pandas-docs/stable/user_guide/indexing.html#returning-a-view-versus-a-copy\n",
      "  train[f'lag_{i}'] = train['USAGE'].shift(i)\n",
      "C:\\Users\\Darshan\\AppData\\Local\\Temp\\ipykernel_14416\\190463890.py:4: SettingWithCopyWarning: \n",
      "A value is trying to be set on a copy of a slice from a DataFrame.\n",
      "Try using .loc[row_indexer,col_indexer] = value instead\n",
      "\n",
      "See the caveats in the documentation: https://pandas.pydata.org/pandas-docs/stable/user_guide/indexing.html#returning-a-view-versus-a-copy\n",
      "  test[f'lag_{i}'] = test['USAGE'].shift(i)\n",
      "C:\\Users\\Darshan\\AppData\\Local\\Temp\\ipykernel_14416\\190463890.py:3: SettingWithCopyWarning: \n",
      "A value is trying to be set on a copy of a slice from a DataFrame.\n",
      "Try using .loc[row_indexer,col_indexer] = value instead\n",
      "\n",
      "See the caveats in the documentation: https://pandas.pydata.org/pandas-docs/stable/user_guide/indexing.html#returning-a-view-versus-a-copy\n",
      "  train[f'lag_{i}'] = train['USAGE'].shift(i)\n",
      "C:\\Users\\Darshan\\AppData\\Local\\Temp\\ipykernel_14416\\190463890.py:4: SettingWithCopyWarning: \n",
      "A value is trying to be set on a copy of a slice from a DataFrame.\n",
      "Try using .loc[row_indexer,col_indexer] = value instead\n",
      "\n",
      "See the caveats in the documentation: https://pandas.pydata.org/pandas-docs/stable/user_guide/indexing.html#returning-a-view-versus-a-copy\n",
      "  test[f'lag_{i}'] = test['USAGE'].shift(i)\n",
      "C:\\Users\\Darshan\\AppData\\Local\\Temp\\ipykernel_14416\\190463890.py:3: SettingWithCopyWarning: \n",
      "A value is trying to be set on a copy of a slice from a DataFrame.\n",
      "Try using .loc[row_indexer,col_indexer] = value instead\n",
      "\n",
      "See the caveats in the documentation: https://pandas.pydata.org/pandas-docs/stable/user_guide/indexing.html#returning-a-view-versus-a-copy\n",
      "  train[f'lag_{i}'] = train['USAGE'].shift(i)\n",
      "C:\\Users\\Darshan\\AppData\\Local\\Temp\\ipykernel_14416\\190463890.py:4: SettingWithCopyWarning: \n",
      "A value is trying to be set on a copy of a slice from a DataFrame.\n",
      "Try using .loc[row_indexer,col_indexer] = value instead\n",
      "\n",
      "See the caveats in the documentation: https://pandas.pydata.org/pandas-docs/stable/user_guide/indexing.html#returning-a-view-versus-a-copy\n",
      "  test[f'lag_{i}'] = test['USAGE'].shift(i)\n",
      "C:\\Users\\Darshan\\AppData\\Local\\Temp\\ipykernel_14416\\190463890.py:3: SettingWithCopyWarning: \n",
      "A value is trying to be set on a copy of a slice from a DataFrame.\n",
      "Try using .loc[row_indexer,col_indexer] = value instead\n",
      "\n",
      "See the caveats in the documentation: https://pandas.pydata.org/pandas-docs/stable/user_guide/indexing.html#returning-a-view-versus-a-copy\n",
      "  train[f'lag_{i}'] = train['USAGE'].shift(i)\n",
      "C:\\Users\\Darshan\\AppData\\Local\\Temp\\ipykernel_14416\\190463890.py:4: SettingWithCopyWarning: \n",
      "A value is trying to be set on a copy of a slice from a DataFrame.\n",
      "Try using .loc[row_indexer,col_indexer] = value instead\n",
      "\n",
      "See the caveats in the documentation: https://pandas.pydata.org/pandas-docs/stable/user_guide/indexing.html#returning-a-view-versus-a-copy\n",
      "  test[f'lag_{i}'] = test['USAGE'].shift(i)\n",
      "C:\\Users\\Darshan\\AppData\\Local\\Temp\\ipykernel_14416\\190463890.py:3: SettingWithCopyWarning: \n",
      "A value is trying to be set on a copy of a slice from a DataFrame.\n",
      "Try using .loc[row_indexer,col_indexer] = value instead\n",
      "\n",
      "See the caveats in the documentation: https://pandas.pydata.org/pandas-docs/stable/user_guide/indexing.html#returning-a-view-versus-a-copy\n",
      "  train[f'lag_{i}'] = train['USAGE'].shift(i)\n",
      "C:\\Users\\Darshan\\AppData\\Local\\Temp\\ipykernel_14416\\190463890.py:4: SettingWithCopyWarning: \n",
      "A value is trying to be set on a copy of a slice from a DataFrame.\n",
      "Try using .loc[row_indexer,col_indexer] = value instead\n",
      "\n",
      "See the caveats in the documentation: https://pandas.pydata.org/pandas-docs/stable/user_guide/indexing.html#returning-a-view-versus-a-copy\n",
      "  test[f'lag_{i}'] = test['USAGE'].shift(i)\n",
      "C:\\Users\\Darshan\\AppData\\Local\\Temp\\ipykernel_14416\\190463890.py:3: SettingWithCopyWarning: \n",
      "A value is trying to be set on a copy of a slice from a DataFrame.\n",
      "Try using .loc[row_indexer,col_indexer] = value instead\n",
      "\n",
      "See the caveats in the documentation: https://pandas.pydata.org/pandas-docs/stable/user_guide/indexing.html#returning-a-view-versus-a-copy\n",
      "  train[f'lag_{i}'] = train['USAGE'].shift(i)\n",
      "C:\\Users\\Darshan\\AppData\\Local\\Temp\\ipykernel_14416\\190463890.py:4: SettingWithCopyWarning: \n",
      "A value is trying to be set on a copy of a slice from a DataFrame.\n",
      "Try using .loc[row_indexer,col_indexer] = value instead\n",
      "\n",
      "See the caveats in the documentation: https://pandas.pydata.org/pandas-docs/stable/user_guide/indexing.html#returning-a-view-versus-a-copy\n",
      "  test[f'lag_{i}'] = test['USAGE'].shift(i)\n",
      "C:\\Users\\Darshan\\AppData\\Local\\Temp\\ipykernel_14416\\190463890.py:3: SettingWithCopyWarning: \n",
      "A value is trying to be set on a copy of a slice from a DataFrame.\n",
      "Try using .loc[row_indexer,col_indexer] = value instead\n",
      "\n",
      "See the caveats in the documentation: https://pandas.pydata.org/pandas-docs/stable/user_guide/indexing.html#returning-a-view-versus-a-copy\n",
      "  train[f'lag_{i}'] = train['USAGE'].shift(i)\n",
      "C:\\Users\\Darshan\\AppData\\Local\\Temp\\ipykernel_14416\\190463890.py:4: SettingWithCopyWarning: \n",
      "A value is trying to be set on a copy of a slice from a DataFrame.\n",
      "Try using .loc[row_indexer,col_indexer] = value instead\n",
      "\n",
      "See the caveats in the documentation: https://pandas.pydata.org/pandas-docs/stable/user_guide/indexing.html#returning-a-view-versus-a-copy\n",
      "  test[f'lag_{i}'] = test['USAGE'].shift(i)\n"
     ]
    }
   ],
   "source": [
    "# Feature engineering: creating lag features\n",
    "for i in range(1, 11):\n",
    "    train[f'lag_{i}'] = train['USAGE'].shift(i)\n",
    "    test[f'lag_{i}'] = test['USAGE'].shift(i)\n"
   ]
  },
  {
   "cell_type": "code",
   "execution_count": 135,
   "metadata": {},
   "outputs": [],
   "source": [
    "train = train.dropna()\n",
    "test = test.dropna()"
   ]
  },
  {
   "cell_type": "code",
   "execution_count": 136,
   "metadata": {},
   "outputs": [],
   "source": [
    "X_train, y_train = train.drop(\"USAGE\", axis=1), train[\"USAGE\"]\n",
    "X_test, y_test = test.drop(\"USAGE\", axis=1), test[\"USAGE\"]\n"
   ]
  },
  {
   "cell_type": "code",
   "execution_count": 137,
   "metadata": {},
   "outputs": [],
   "source": [
    "xgb_model = XGBRegressor()\n",
    "xgb_model.fit(X_train, y_train)\n",
    "xgb_pred = xgb_model.predict(X_test)"
   ]
  },
  {
   "cell_type": "code",
   "execution_count": 138,
   "metadata": {},
   "outputs": [],
   "source": [
    "mae_xgb = mean_absolute_error(y_test, xgb_pred)\n",
    "mse_xgb = mean_squared_error(y_test, xgb_pred)\n",
    "rmse_xgb = sqrt(mse_xgb)\n"
   ]
  },
  {
   "cell_type": "code",
   "execution_count": 139,
   "metadata": {},
   "outputs": [
    {
     "name": "stdout",
     "output_type": "stream",
     "text": [
      "XGBoost Metrics:\n",
      "Mean Absolute Error (MAE): 0.02\n",
      "Mean Squared Error (MSE): 0.00\n",
      "Root Mean Squared Error (RMSE): 0.05\n"
     ]
    },
    {
     "data": {
      "image/png": "[encoded data removed]",
      "text/plain": [
       "<Figure size 432x288 with 1 Axes>"
      ]
     },
     "metadata": {
      "needs_background": "light"
     },
     "output_type": "display_data"
    }
   ],
   "source": [
    "print(f'XGBoost Metrics:')\n",
    "print(f'Mean Absolute Error (MAE): {mae_xgb:.2f}')\n",
    "print(f'Mean Squared Error (MSE): {mse_xgb:.2f}')\n",
    "print(f'Root Mean Squared Error (RMSE): {rmse_xgb:.2f}')\n",
    "\n",
    "# Visualize the results\n",
    "plt.plot(y_test.index, y_test, label='Actual')\n",
    "plt.plot(y_test.index, xgb_pred, label='XGBoost Predicted')\n",
    "plt.legend()\n",
    "plt.show()\n"
   ]
  },
  {
   "cell_type": "code",
   "execution_count": null,
   "metadata": {},
   "outputs": [],
   "source": []
  },
  {
   "cell_type": "code",
   "execution_count": null,
   "metadata": {},
   "outputs": [],
   "source": []
  },
  {
   "cell_type": "code",
   "execution_count": null,
   "metadata": {},
   "outputs": [],
   "source": []
  },
  {
   "cell_type": "code",
   "execution_count": null,
   "metadata": {},
   "outputs": [],
   "source": []
  },
  {
   "cell_type": "code",
   "execution_count": null,
   "metadata": {},
   "outputs": [],
   "source": []
  },
  {
   "cell_type": "code",
   "execution_count": null,
   "metadata": {},
   "outputs": [],
   "source": []
  },
  {
   "cell_type": "code",
   "execution_count": null,
   "metadata": {},
   "outputs": [],
   "source": []
  },
  {
   "cell_type": "markdown",
   "metadata": {},
   "source": [
    "### VAR model"
   ]
  },
  {
   "cell_type": "code",
   "execution_count": 140,
   "metadata": {},
   "outputs": [],
   "source": [
    "import pandas as pd\n",
    "from statsmodels.tsa.api import VAR\n",
    "from statsmodels.tsa.stattools import adfuller\n",
    "from sklearn.metrics import mean_absolute_error, mean_squared_error\n",
    "from math import sqrt\n",
    "import matplotlib.pyplot as plt"
   ]
  },
  {
   "cell_type": "code",
   "execution_count": 141,
   "metadata": {},
   "outputs": [],
   "source": [
    "df = pd.read_excel(r\"C:\\Users\\Darshan\\Downloads\\D202.xlsx\")  # Replace with your file path\n",
    "df[\"Date\"] = pd.to_datetime(df[\"Date\"])"
   ]
  },
  {
   "cell_type": "code",
   "execution_count": 142,
   "metadata": {},
   "outputs": [],
   "source": [
    "df[\"START TIME\"] = df[\"START TIME\"].apply(lambda x: x.hour * 60 + x.minute)\n",
    "df[\"END TIME\"] = df[\"END TIME\"].apply(lambda x: x.hour * 60 + x.minute)"
   ]
  },
  {
   "cell_type": "code",
   "execution_count": 143,
   "metadata": {},
   "outputs": [],
   "source": [
    "data = df[[\"Date\", \"USAGE\", \"START TIME\", \"END TIME\"]].set_index(\"Date\")"
   ]
  },
  {
   "cell_type": "code",
   "execution_count": 144,
   "metadata": {},
   "outputs": [
    {
     "name": "stdout",
     "output_type": "stream",
     "text": [
      "ADF Statistic for USAGE: -25.238587018974524\n",
      "p-value: 0.0\n"
     ]
    }
   ],
   "source": [
    "result_adf_usage = adfuller(data[\"USAGE\"])\n",
    "print(f'ADF Statistic for USAGE: {result_adf_usage[0]}')\n",
    "print(f'p-value: {result_adf_usage[1]}')"
   ]
  },
  {
   "cell_type": "code",
   "execution_count": 145,
   "metadata": {},
   "outputs": [],
   "source": [
    "train_size = int(len(data) * 0.8)\n",
    "train, test = data[:train_size], data[train_size:]"
   ]
  },
  {
   "cell_type": "code",
   "execution_count": 146,
   "metadata": {},
   "outputs": [
    {
     "name": "stderr",
     "output_type": "stream",
     "text": [
      "C:\\ProgramData\\Anaconda3\\lib\\site-packages\\statsmodels\\tsa\\base\\tsa_model.py:471: ValueWarning: A date index has been provided, but it has no associated frequency information and so will be ignored when e.g. forecasting.\n",
      "  self._init_dates(dates, freq)\n"
     ]
    }
   ],
   "source": [
    "model = VAR(train)\n",
    "order_var = 2  # Example order, you may need to tune this\n",
    "var_fit = model.fit(order_var)\n"
   ]
  },
  {
   "cell_type": "code",
   "execution_count": 147,
   "metadata": {},
   "outputs": [],
   "source": [
    "lag_order = var_fit.k_ar\n",
    "var_pred = var_fit.forecast(train.values[-lag_order:], len(test))"
   ]
  },
  {
   "cell_type": "code",
   "execution_count": 148,
   "metadata": {},
   "outputs": [],
   "source": [
    "mae_var = mean_absolute_error(test[\"USAGE\"], var_pred[:, 1])  # Adjust index if needed\n",
    "mse_var = mean_squared_error(test[\"USAGE\"], var_pred[:, 1])\n",
    "rmse_var = sqrt(mse_var)\n"
   ]
  },
  {
   "cell_type": "code",
   "execution_count": 149,
   "metadata": {},
   "outputs": [
    {
     "name": "stdout",
     "output_type": "stream",
     "text": [
      "VAR Metrics:\n",
      "Mean Absolute Error (MAE): 712.10\n",
      "Mean Squared Error (MSE): 507101.00\n",
      "Root Mean Squared Error (RMSE): 712.11\n"
     ]
    },
    {
     "data": {
      "image/png": "[encoded data removed]",
      "text/plain": [
       "<Figure size 432x288 with 1 Axes>"
      ]
     },
     "metadata": {
      "needs_background": "light"
     },
     "output_type": "display_data"
    }
   ],
   "source": [
    "print(f'VAR Metrics:')\n",
    "print(f'Mean Absolute Error (MAE): {mae_var:.2f}')\n",
    "print(f'Mean Squared Error (MSE): {mse_var:.2f}')\n",
    "print(f'Root Mean Squared Error (RMSE): {rmse_var:.2f}')\n",
    "\n",
    "# Visualize the results\n",
    "plt.plot(test[\"USAGE\"], label='Actual')\n",
    "plt.plot(test.index, var_pred[:, 1], label='VAR Predicted')  # Adjust index if needed\n",
    "plt.legend()\n",
    "plt.show()"
   ]
  },
  {
   "cell_type": "code",
   "execution_count": null,
   "metadata": {},
   "outputs": [],
   "source": []
  },
  {
   "cell_type": "code",
   "execution_count": null,
   "metadata": {},
   "outputs": [],
   "source": []
  },
  {
   "cell_type": "code",
   "execution_count": null,
   "metadata": {},
   "outputs": [],
   "source": []
  },
  {
   "cell_type": "markdown",
   "metadata": {},
   "source": [
    "### Exponential Smoothing"
   ]
  },
  {
   "cell_type": "code",
   "execution_count": 150,
   "metadata": {},
   "outputs": [],
   "source": [
    "import pandas as pd\n",
    "import numpy as np\n",
    "import matplotlib.pyplot as plt\n",
    "from statsmodels.tsa.holtwinters import ExponentialSmoothing\n",
    "from sklearn.model_selection import train_test_split\n",
    "from sklearn.preprocessing import MinMaxScaler\n",
    "from tensorflow.keras.models import Sequential\n",
    "from tensorflow.keras.layers import Dense, LSTM\n",
    "from tensorflow.keras.callbacks import EarlyStopping\n"
   ]
  },
  {
   "cell_type": "code",
   "execution_count": 151,
   "metadata": {},
   "outputs": [],
   "source": [
    "df = pd.read_excel(r\"C:\\Users\\Darshan\\Downloads\\D202.xlsx\")\n",
    "df[\"Date\"] = pd.to_datetime(df[\"Date\"])\n"
   ]
  },
  {
   "cell_type": "code",
   "execution_count": 152,
   "metadata": {},
   "outputs": [],
   "source": [
    "# Extract relevant features\n",
    "data = df[[\"Date\", \"USAGE\"]].set_index(\"Date\")\n"
   ]
  },
  {
   "cell_type": "code",
   "execution_count": 153,
   "metadata": {},
   "outputs": [],
   "source": [
    "data_resampled = data.resample('D').sum()# Downsample the data to daily frequency"
   ]
  },
  {
   "cell_type": "code",
   "execution_count": 154,
   "metadata": {},
   "outputs": [],
   "source": [
    "train_size = int(len(data_resampled) * 0.8)\n",
    "train, test = data_resampled.iloc[:train_size], data_resampled.iloc[train_size:]"
   ]
  },
  {
   "cell_type": "code",
   "execution_count": 155,
   "metadata": {},
   "outputs": [],
   "source": [
    "model_es = ExponentialSmoothing(train, seasonal='add', seasonal_periods=12)\n",
    "fit_es = model_es.fit()\n"
   ]
  },
  {
   "cell_type": "code",
   "execution_count": 156,
   "metadata": {},
   "outputs": [],
   "source": [
    "start_idx = test.index[0]\n",
    "end_idx = test.index[-1]\n",
    "pred_es = fit_es.predict(start=start_idx, end=end_idx) # Make predictions using integers for start and end\n"
   ]
  },
  {
   "cell_type": "code",
   "execution_count": 157,
   "metadata": {},
   "outputs": [
    {
     "data": {
      "image/png": "[encoded data removed]",
      "text/plain": [
       "<Figure size 432x288 with 1 Axes>"
      ]
     },
     "metadata": {
      "needs_background": "light"
     },
     "output_type": "display_data"
    }
   ],
   "source": [
    "# Plot ES predictions\n",
    "plt.plot(train, label='Train')\n",
    "plt.plot(test, label='Test')\n",
    "plt.plot(pred_es, label='ES Prediction')\n",
    "plt.legend()\n",
    "plt.show()\n"
   ]
  },
  {
   "cell_type": "code",
   "execution_count": 158,
   "metadata": {},
   "outputs": [],
   "source": [
    "# Normalize the data\n",
    "scaler = MinMaxScaler(feature_range=(0, 1))\n",
    "data_scaled = scaler.fit_transform(data_resampled)\n",
    "\n",
    "# Create sequences for LSTM\n",
    "def create_sequences(data, seq_length):\n",
    "    sequences = []\n",
    "    for i in range(len(data) - seq_length):\n",
    "        seq = data[i:i+seq_length]\n",
    "        label = data[i+seq_length]\n",
    "        sequences.append((seq, label))\n",
    "    return np.array(sequences)\n",
    "\n",
    "# Hyperparameters\n",
    "seq_length = 10\n",
    "batch_size = 32\n",
    "epochs = 50"
   ]
  },
  {
   "cell_type": "code",
   "execution_count": 159,
   "metadata": {},
   "outputs": [
    {
     "name": "stderr",
     "output_type": "stream",
     "text": [
      "C:\\Users\\Darshan\\AppData\\Local\\Temp\\ipykernel_14416\\689560677.py:12: VisibleDeprecationWarning: Creating an ndarray from ragged nested sequences (which is a list-or-tuple of lists-or-tuples-or ndarrays with different lengths or shapes) is deprecated. If you meant to do this, you must specify 'dtype=object' when creating the ndarray.\n",
      "  return np.array(sequences)\n"
     ]
    }
   ],
   "source": [
    "sequences = create_sequences(data_scaled, seq_length)\n",
    "\n",
    "# Split into features and labels\n",
    "X = np.array([seq for seq, _ in sequences])\n",
    "y = np.array([label for _, label in sequences])\n"
   ]
  },
  {
   "cell_type": "code",
   "execution_count": 160,
   "metadata": {},
   "outputs": [
    {
     "data": {
      "image/png": "[encoded data removed]",
      "text/plain": [
       "<Figure size 432x288 with 1 Axes>"
      ]
     },
     "metadata": {
      "needs_background": "light"
     },
     "output_type": "display_data"
    }
   ],
   "source": [
    "# Make predictions using integers for start and end\n",
    "start_idx = test.index[0]\n",
    "end_idx = test.index[-1]\n",
    "pred_es = fit_es.predict(start=start_idx, end=end_idx)\n",
    "\n",
    "# Plot ES predictions\n",
    "plt.plot(train, label='Train')\n",
    "plt.plot(test, label='Test')\n",
    "plt.plot(pred_es, label='ES Prediction')\n",
    "plt.legend()\n",
    "plt.show()"
   ]
  },
  {
   "cell_type": "code",
   "execution_count": 161,
   "metadata": {},
   "outputs": [
    {
     "name": "stdout",
     "output_type": "stream",
     "text": [
      "Epoch 1/50\n",
      "19/19 [==============================] - 3s 21ms/step - loss: 0.0674 - val_loss: 0.0081\n",
      "Epoch 2/50\n",
      "19/19 [==============================] - 0s 9ms/step - loss: 0.0271 - val_loss: 0.0111\n",
      "Epoch 3/50\n",
      "19/19 [==============================] - 0s 5ms/step - loss: 0.0228 - val_loss: 0.0072\n",
      "Epoch 4/50\n",
      "19/19 [==============================] - 0s 6ms/step - loss: 0.0229 - val_loss: 0.0080\n",
      "Epoch 5/50\n",
      "19/19 [==============================] - 0s 9ms/step - loss: 0.0225 - val_loss: 0.0076\n",
      "Epoch 6/50\n",
      "19/19 [==============================] - 0s 8ms/step - loss: 0.0224 - val_loss: 0.0075\n",
      "Epoch 7/50\n",
      "19/19 [==============================] - 0s 8ms/step - loss: 0.0223 - val_loss: 0.0074\n",
      "Epoch 8/50\n",
      "19/19 [==============================] - 0s 7ms/step - loss: 0.0222 - val_loss: 0.0074\n"
     ]
    }
   ],
   "source": [
    "X_train, X_test, y_train, y_test = train_test_split(X, y, test_size=0.2, shuffle=False)\n",
    "\n",
    "# Build LSTM model\n",
    "model_rnn = Sequential()\n",
    "model_rnn.add(LSTM(50, activation='relu', input_shape=(seq_length, 1)))\n",
    "model_rnn.add(Dense(1))\n",
    "model_rnn.compile(optimizer='adam', loss='mse')\n",
    "\n",
    "# Set up early stopping\n",
    "early_stopping = EarlyStopping(monitor='val_loss', patience=5, restore_best_weights=True)\n",
    "\n",
    "# Train the model\n",
    "history_rnn = model_rnn.fit(X_train, y_train, epochs=epochs, batch_size=batch_size,\n",
    "                             validation_data=(X_test, y_test), callbacks=[early_stopping], shuffle=False)"
   ]
  },
  {
   "cell_type": "code",
   "execution_count": 162,
   "metadata": {},
   "outputs": [
    {
     "name": "stdout",
     "output_type": "stream",
     "text": [
      "5/5 [==============================] - 0s 2ms/step\n",
      "Root Mean Squared Error (RMSE) for LSTM: 3.38\n"
     ]
    },
    {
     "data": {
      "image/png": "[encoded data removed]",
      "text/plain": [
       "<Figure size 432x288 with 1 Axes>"
      ]
     },
     "metadata": {
      "needs_background": "light"
     },
     "output_type": "display_data"
    }
   ],
   "source": [
    "# Make LSTM predictions\n",
    "predictions_rnn = model_rnn.predict(X_test)\n",
    "\n",
    "# Inverse transform the predictions to the original scale\n",
    "predictions_rnn = scaler.inverse_transform(predictions_rnn)\n",
    "y_test_original_rnn = scaler.inverse_transform(y_test.reshape(-1, 1))\n",
    "\n",
    "# Calculate RMSE for LSTM\n",
    "rmse_rnn = np.sqrt(mean_squared_error(y_test_original_rnn, predictions_rnn))\n",
    "print(f'Root Mean Squared Error (RMSE) for LSTM: {rmse_rnn:.2f}')\n",
    "\n",
    "# Visualize the results for LSTM\n",
    "plt.plot(y_test_original_rnn, label='Actual')\n",
    "plt.plot(predictions_rnn, label='LSTM Predicted')\n",
    "plt.legend()\n",
    "plt.show()"
   ]
  },
  {
   "cell_type": "code",
   "execution_count": null,
   "metadata": {},
   "outputs": [],
   "source": []
  },
  {
   "cell_type": "code",
   "execution_count": null,
   "metadata": {},
   "outputs": [],
   "source": []
  },
  {
   "cell_type": "code",
   "execution_count": null,
   "metadata": {},
   "outputs": [],
   "source": []
  }
 ],
 "metadata": {
  "colab": {
   "provenance": []
  },
  "kernelspec": {
   "display_name": "Python 3 (ipykernel)",
   "language": "python",
   "name": "python3"
  },
  "language_info": {
   "codemirror_mode": {
    "name": "ipython",
    "version": 3
   },
   "file_extension": ".py",
   "mimetype": "text/x-python",
   "name": "python",
   "nbconvert_exporter": "python",
   "pygments_lexer": "ipython3",
   "version": "3.9.12"
  }
 },
 "nbformat": 4,
 "nbformat_minor": 1
}
